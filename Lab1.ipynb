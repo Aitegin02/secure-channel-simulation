{
  "cells": [
    {
      "cell_type": "markdown",
      "id": "1cde0080-341b-4d4e-aff9-f50ad37b440f",
      "metadata": {
        "id": "1cde0080-341b-4d4e-aff9-f50ad37b440f"
      },
      "source": [
        "# Implementation and linear cryptanalysis of a simplified AES-like cipher\n",
        "Laboratory session 1 of *Information Security*, AY 2024/25"
      ]
    },
    {
      "cell_type": "markdown",
      "id": "401d9b76-214c-4b3b-bea4-54636502207d",
      "metadata": {
        "id": "401d9b76-214c-4b3b-bea4-54636502207d"
      },
      "source": [
        "To Do:\n",
        "- precautions for input shape or type mismatches\n",
        "- proper function documentation"
      ]
    },
    {
      "cell_type": "code",
      "id": "ee4081db-1da6-4f44-9985-f5798f202904",
      "metadata": {
        "ExecuteTime": {
          "end_time": "2025-04-06T10:29:11.581770Z",
          "start_time": "2025-04-06T10:29:11.568308Z"
        },
        "id": "ee4081db-1da6-4f44-9985-f5798f202904"
      },
      "source": [
        "# library imports\n",
        "import numpy as np\n",
        "import sympy as sp\n",
        "from sympy import Matrix\n",
        "from itertools import product, combinations\n",
        "from collections import Counter\n",
        "import ast\n"
      ],
      "outputs": [],
      "execution_count": 51
    },
    {
      "cell_type": "markdown",
      "id": "7c9203b1-ae0a-454a-8403-d1c8daefadc0",
      "metadata": {
        "id": "7c9203b1-ae0a-454a-8403-d1c8daefadc0"
      },
      "source": [
        "## Task 1\n",
        "Using a programming language of your choice, implement the encryptor for a simplified\n",
        "AES-like cipher."
      ]
    },
    {
      "cell_type": "markdown",
      "id": "7d49c841-2342-49ee-b80a-51ad2ad9c4b8",
      "metadata": {
        "id": "7d49c841-2342-49ee-b80a-51ad2ad9c4b8"
      },
      "source": [
        "Soooo let's do helper functions for\n",
        "- subkey generation\n",
        "- substitution S\n",
        "- transposition T\n",
        "- linear transformation L"
      ]
    },
    {
      "cell_type": "code",
      "id": "b7320cad-8219-47a2-9e91-ce52b1efd6b4",
      "metadata": {
        "ExecuteTime": {
          "end_time": "2025-04-06T10:29:11.670779Z",
          "start_time": "2025-04-06T10:29:11.644148Z"
        },
        "id": "b7320cad-8219-47a2-9e91-ce52b1efd6b4"
      },
      "source": [
        "def substitution(v):\n",
        "    return (2*v) % 11\n",
        "\n",
        "def transposition(y):\n",
        "    # returns copy of y with 2nd half flipped\n",
        "    # assuming y has an even length\n",
        "    h = len(y)//2 # halfway point\n",
        "    z = np.copy(y)\n",
        "    z[h:]= z[h:][::-1]\n",
        "    return z\n",
        "\n",
        "A = np.array([[2,5],[1,7]])\n",
        "def linear(z):\n",
        "    W = z.reshape((2,4))\n",
        "    w = (A @ W) % 11\n",
        "    return w.flatten()\n",
        "\n",
        "def subkeyGen(K):\n",
        "    K = np.array(K)\n",
        "    idx = np.array([\n",
        "        [0, 2, 4, 6],\n",
        "        [0, 1, 2, 3],\n",
        "        [0, 3, 4, 7],\n",
        "        [0, 3, 5, 6],\n",
        "        [0, 2, 5, 7],\n",
        "        [2, 3, 4, 5]\n",
        "    ])\n",
        "    return K[idx]"
      ],
      "outputs": [],
      "execution_count": 52
    },
    {
      "cell_type": "markdown",
      "id": "a6bcb34a-24d7-4dfd-a116-60e5a370575c",
      "metadata": {
        "id": "a6bcb34a-24d7-4dfd-a116-60e5a370575c"
      },
      "source": [
        "Put everything together in an encryptor function:"
      ]
    },
    {
      "cell_type": "code",
      "id": "2805eedd-84f0-429d-ae9e-c5eeee16f645",
      "metadata": {
        "ExecuteTime": {
          "end_time": "2025-04-06T10:29:11.770311Z",
          "start_time": "2025-04-06T10:29:11.741042Z"
        },
        "id": "2805eedd-84f0-429d-ae9e-c5eeee16f645"
      },
      "source": [
        "def encryptA(u, k):\n",
        "    # generate subkeys from key k\n",
        "    subkeys = subkeyGen(k)\n",
        "    # first subkey sum\n",
        "    v = (u + np.concatenate((subkeys[0], subkeys[0]))) % 11\n",
        "\n",
        "    for i in range(4):\n",
        "        # S: perform substitution\n",
        "        y = substitution(v)\n",
        "        # T: transpose\n",
        "        z = transposition(y)\n",
        "        # L: linear transform\n",
        "        w = linear(z)\n",
        "        # compute subkey sum\n",
        "        v = (w + np.concatenate((subkeys[i+1], subkeys[i+1])) ) % 11\n",
        "\n",
        "    # last iteration without linear step:\n",
        "    # S: perform substitution\n",
        "    y = substitution(v)\n",
        "    # T: transpose\n",
        "    z = transposition(y)\n",
        "    # subkey sum\n",
        "    v = (z + np.concatenate((subkeys[5], subkeys[5])) ) % 11\n",
        "\n",
        "    return v"
      ],
      "outputs": [],
      "execution_count": 53
    },
    {
      "cell_type": "markdown",
      "id": "68bb6cea-b63c-4c75-967b-de46cbcbf08c",
      "metadata": {
        "id": "68bb6cea-b63c-4c75-967b-de46cbcbf08c"
      },
      "source": [
        "Test with given test message & key:"
      ]
    },
    {
      "cell_type": "code",
      "id": "7a4a433b-c872-4fe0-aaf8-54affe1df59c",
      "metadata": {
        "ExecuteTime": {
          "end_time": "2025-04-06T10:29:11.842206Z",
          "start_time": "2025-04-06T10:29:11.826661Z"
        },
        "colab": {
          "base_uri": "https://localhost:8080/"
        },
        "id": "7a4a433b-c872-4fe0-aaf8-54affe1df59c",
        "outputId": "38367800-c684-4d46-a067-c38acaae68e4"
      },
      "source": [
        "u = np.zeros(8)\n",
        "u[0] = 1\n",
        "k = u.copy()\n",
        "encryptA(u,k)"
      ],
      "outputs": [
        {
          "output_type": "execute_result",
          "data": {
            "text/plain": [
              "array([4., 0., 0., 9., 7., 0., 0., 3.])"
            ]
          },
          "metadata": {},
          "execution_count": 54
        }
      ],
      "execution_count": 54
    },
    {
      "cell_type": "markdown",
      "id": "aef691b9-083c-497c-9346-064f9138f87e",
      "metadata": {
        "id": "aef691b9-083c-497c-9346-064f9138f87e"
      },
      "source": [
        "## Task 2\n",
        "Implement the decryptor for this simplified AES-like cipher. Note that decryption is performed by the inverse blocks in reverse order. Therefore, you have to implement the inverse of each function used to encrypt the message (subkey sum, substitution, transposition and linear), taking into consideration that all the operations must be done in the field F = GF(p)."
      ]
    },
    {
      "cell_type": "markdown",
      "id": "d7d1a601-adc1-43ea-a266-962c45f7a001",
      "metadata": {
        "id": "d7d1a601-adc1-43ea-a266-962c45f7a001"
      },
      "source": [
        "The transposition (flipping the 2nd half of the vector) is its own inverse here. For the linear transformation,\n"
      ]
    },
    {
      "cell_type": "code",
      "id": "65fc6410-3045-45c2-8541-b74fabf652bd",
      "metadata": {
        "ExecuteTime": {
          "end_time": "2025-04-06T10:29:11.874596Z",
          "start_time": "2025-04-06T10:29:11.858434Z"
        },
        "id": "65fc6410-3045-45c2-8541-b74fabf652bd"
      },
      "source": [
        "def substitutionInv(v):\n",
        "    return 6*v % 11\n",
        "\n",
        "A_inv = np.array([[2, 8],[6, 10]])\n",
        "def linearInv(w):\n",
        "    W = w.reshape((2,4))\n",
        "    z = (A_inv @ W) % 11\n",
        "    return z.flatten()\n",
        "\n",
        "def decryptA(x, k):\n",
        "    # generate subkeys from key k\n",
        "    subkeys = subkeyGen(k)\n",
        "\n",
        "    # subkey diff\n",
        "    z = (x + 11 - np.concatenate((subkeys[5], subkeys[5]))) % 11\n",
        "    # T^-1: inverse transposition\n",
        "    y = transposition(z)\n",
        "    # S^-1: inv. substitution\n",
        "    v = substitutionInv(y)\n",
        "\n",
        "    for i in range(0, 4):\n",
        "        # subkey diff\n",
        "        w = (v + 11 - np.concatenate((subkeys[4-i], subkeys[4-i]))) % 11\n",
        "        # L^-1: inverse linear trafo\n",
        "        z = linearInv(w)\n",
        "        # T^-^: inverse transposition\n",
        "        y = transposition(z)\n",
        "        # S^-1: inv. substitution\n",
        "        v = substitutionInv(y)\n",
        "\n",
        "    # subkey diff\n",
        "    u = (v + 11 - np.concatenate((subkeys[0], subkeys[0]))) % 11\n",
        "\n",
        "    return u"
      ],
      "outputs": [],
      "execution_count": 55
    },
    {
      "cell_type": "code",
      "id": "c024ecc5-95d3-409e-a0db-12d025a504be",
      "metadata": {
        "ExecuteTime": {
          "end_time": "2025-04-06T10:29:11.970427Z",
          "start_time": "2025-04-06T10:29:11.901891Z"
        },
        "id": "c024ecc5-95d3-409e-a0db-12d025a504be",
        "colab": {
          "base_uri": "https://localhost:8080/"
        },
        "outputId": "37960cdb-b2e1-420b-ac56-d8d0a1b7ebfd"
      },
      "source": [
        "N = 100 # number of test pairs\n",
        "u = np.random.randint(0, 10, size=(N, 8)) # generate random test messages\n",
        "k =  np.random.randint(0, 10, size=(N, 8)) # generate random test keys\n",
        "x = np.array([decryptA(encryptA(u[i], k[i]), k[i]) for i in range(N)]) # encrypt and decrypt the messages\n",
        "print(np.all(u == x)) # check if all decrypted messages match the original ones"
      ],
      "outputs": [
        {
          "output_type": "stream",
          "name": "stdout",
          "text": [
            "True\n"
          ]
        }
      ],
      "execution_count": 56
    },
    {
      "cell_type": "markdown",
      "source": [
        "# Task 3"
      ],
      "metadata": {
        "id": "xzdLWHcGMDN9"
      },
      "id": "xzdLWHcGMDN9"
    },
    {
      "cell_type": "code",
      "source": [
        "def linear_matrices():\n",
        "    A_l = []\n",
        "    B = []\n",
        "\n",
        "    zero_vector = [0] * 8\n",
        "\n",
        "    for j in range(8):\n",
        "        k = [0] * 8  # k influence\n",
        "        k[j] = 1\n",
        "        x = encryptA(zero_vector, k)\n",
        "        A_l.append(x)\n",
        "\n",
        "    for j in range(8):\n",
        "        u = [0] * 8\n",
        "        u[j] = 1\n",
        "        x = encryptA(u, zero_vector)\n",
        "        B.append(x)\n",
        "\n",
        "    A_l = np.array(A_l).T\n",
        "    B = np.array(B).T\n",
        "\n",
        "    return A_l, B\n",
        "\n",
        "A_l, B = linear_matrices()\n",
        "\n",
        "print(\"A =\")\n",
        "print(A_l)\n",
        "\n",
        "print(\"B =\")\n",
        "print(B)\n",
        "\n",
        "u = np.random.randint(0, 11, 8)\n",
        "k = np.random.randint(0, 11, 8)\n",
        "\n",
        "x1 = encryptA(u, k)\n",
        "x2 = (A_l @ k + B @ u) % 11\n",
        "\n",
        "print(\"u:\", u)\n",
        "print(\"k:\", k)\n",
        "print(\"\\nx1 = encryptA(u, k):\")\n",
        "print(x1)\n",
        "print(\"\\nx2 = A @ k + B @ u:\")\n",
        "print(x2.astype(int))\n",
        "\n",
        "print(\"\\n Matches\" if np.all(x1 == x2) else \"No matches\")"
      ],
      "metadata": {
        "colab": {
          "base_uri": "https://localhost:8080/"
        },
        "id": "jcVm5skyMCt-",
        "outputId": "d8e3be44-9d2e-4000-c3a7-0d87fa17fb25"
      },
      "id": "jcVm5skyMCt-",
      "execution_count": 57,
      "outputs": [
        {
          "output_type": "stream",
          "name": "stdout",
          "text": [
            "A =\n",
            "[[ 9  0  1  6  0  0  1 10]\n",
            " [ 0  8  6  2  2  9  0  0]\n",
            " [ 0  6  0  8  3 10  0  0]\n",
            " [ 6  0  0  8  0  1  6  6]\n",
            " [ 2  0  1 10  0  0  1  3]\n",
            " [ 0  1  8  4  9  6  0  0]\n",
            " [ 0 10  0  5  7  6  0  0]\n",
            " [ 3  0  0  1  0  1  4  8]]\n",
            "B =\n",
            "[[6 0 0 3 3 0 0 0]\n",
            " [0 6 3 0 0 3 0 0]\n",
            " [0 3 6 0 0 0 3 0]\n",
            " [3 0 0 6 0 0 0 3]\n",
            " [5 0 0 0 4 0 0 8]\n",
            " [0 5 0 0 0 4 8 0]\n",
            " [0 0 5 0 0 8 4 0]\n",
            " [0 0 0 5 8 0 0 4]]\n",
            "u: [0 1 1 1 6 7 2 1]\n",
            "k: [10  1 10  5  4 10  1  6]\n",
            "\n",
            "x1 = encryptA(u, k):\n",
            "[ 3  8  8  7 10  4  5  0]\n",
            "\n",
            "x2 = A @ k + B @ u:\n",
            "[ 3  8  8  7 10  4  5  0]\n",
            "\n",
            " Matches\n"
          ]
        }
      ]
    },
    {
      "cell_type": "markdown",
      "source": [
        "# Task 4\n",
        "\n",
        "Carry out linear cryptanalysis"
      ],
      "metadata": {
        "id": "gzJLFH4wRFKb"
      },
      "id": "gzJLFH4wRFKb"
    },
    {
      "cell_type": "code",
      "source": [
        "\n",
        "p = 11\n",
        "\n",
        "\n",
        "def inv_matrix_mod(A_numpy, p):\n",
        "    A_sym = sp.Matrix(A_numpy.tolist())\n",
        "    det = A_sym.det() % p\n",
        "    if sp.gcd(det, p) != 1:\n",
        "        raise ValueError(\"Matrix not invertible\")\n",
        "    A_inv_sym = A_sym.inv_mod(p)\n",
        "    return np.array(A_inv_sym.tolist(), dtype=int)\n",
        "\n",
        "A_l, B = linear_matrices()\n",
        "Ainv2 = inv_matrix_mod(A_l, p)\n",
        "\n",
        "\n",
        "with open(\"KPApairsJ_linear.txt\", \"r\") as file:\n",
        "    lines = file.readlines()\n",
        "\n",
        "for line in lines:\n",
        "    if line.strip() == \"\":\n",
        "        continue\n",
        "\n",
        "u_first, x_first = lines[0].split('\\t')\n",
        "u = np.array(ast.literal_eval(u_first))\n",
        "x = np.array(ast.literal_eval(x_first))\n",
        "\n",
        "Bu = (B @ u) % p\n",
        "x_minus_Bu = (x - Bu) % p\n",
        "k = (Ainv2 @ x_minus_Bu) % p\n",
        "\n",
        "\n",
        "print(\"The recovered key is\")\n",
        "print(k.astype(int).tolist())\n",
        "\n",
        "\n",
        "for idx, line in enumerate(lines):\n",
        "    u_str, x_str = line.split('\\t')\n",
        "    u = np.array(ast.literal_eval(u_str))\n",
        "    x = np.array(ast.literal_eval(x_str))\n",
        "\n",
        "    x_check = (A_l @ k + B @ u) % p\n",
        "\n",
        "    print(f\"\\nThe pair #{idx + 1}\")\n",
        "    print(\"u:\", u.tolist())\n",
        "    print(\"x initial   \", x.tolist())\n",
        "    print(\"x computed:  \", x_check.astype(int).tolist())\n",
        "\n",
        "    if list(x_check.astype(int)) == list(x):\n",
        "        print(\"Matches :)\")\n",
        "    else:\n",
        "        print(\"Doesn't match\")\n"
      ],
      "metadata": {
        "colab": {
          "base_uri": "https://localhost:8080/"
        },
        "id": "GzE6b68zQ0cQ",
        "outputId": "23729108-bf23-4d3a-8cd8-bb8f417b22a4"
      },
      "id": "GzE6b68zQ0cQ",
      "execution_count": 58,
      "outputs": [
        {
          "output_type": "stream",
          "name": "stdout",
          "text": [
            "The recovered key is\n",
            "[7, 2, 3, 2, 4, 6, 6, 0]\n",
            "\n",
            "The pair #1\n",
            "u: [7, 6, 1, 6, 5, 2, 2, 6]\n",
            "x initial    [5, 2, 9, 10, 3, 6, 2, 4]\n",
            "x computed:   [5, 2, 9, 10, 3, 6, 2, 4]\n",
            "Matches :)\n",
            "\n",
            "The pair #2\n",
            "u: [4, 7, 8, 2, 8, 3, 6, 2]\n",
            "x initial    [6, 10, 0, 9, 1, 3, 6, 3]\n",
            "x computed:   [6, 10, 0, 9, 1, 3, 6, 3]\n",
            "Matches :)\n",
            "\n",
            "The pair #3\n",
            "u: [4, 5, 7, 6, 4, 10, 5, 10]\n",
            "x initial    [6, 5, 7, 2, 5, 2, 9, 1]\n",
            "x computed:   [6, 5, 7, 2, 5, 2, 9, 1]\n",
            "Matches :)\n",
            "\n",
            "The pair #4\n",
            "u: [5, 8, 9, 1, 1, 3, 4, 4]\n",
            "x initial    [10, 8, 3, 1, 5, 3, 3, 5]\n",
            "x computed:   [10, 8, 3, 1, 5, 3, 3, 5]\n",
            "Matches :)\n",
            "\n",
            "The pair #5\n",
            "u: [4, 2, 0, 1, 5, 3, 3, 0]\n",
            "x initial    [5, 0, 5, 8, 6, 9, 9, 10]\n",
            "x computed:   [5, 0, 5, 8, 6, 9, 9, 10]\n",
            "Matches :)\n"
          ]
        }
      ]
    },
    {
      "cell_type": "markdown",
      "source": [
        "# Task 5"
      ],
      "metadata": {
        "id": "uJ0mPeykQ5IP"
      },
      "id": "uJ0mPeykQ5IP"
    },
    {
      "cell_type": "code",
      "id": "3488571e-c994-4925-9a67-b161175a83ba",
      "metadata": {
        "ExecuteTime": {
          "end_time": "2025-04-06T10:29:12.055924Z",
          "start_time": "2025-04-06T10:29:12.027005Z"
        },
        "id": "3488571e-c994-4925-9a67-b161175a83ba"
      },
      "source": [
        "s_table = np.array([0, 2, 4, 8, 6, 10, 1, 3, 5, 7, 9])\n",
        "s_table_inv = np.argsort(s_table)\n",
        "\n",
        "def substitutionB(v):\n",
        "    return s_table[v]\n",
        "\n",
        "def substitutionInvB(v):\n",
        "    return s_table_inv[v]\n",
        "\n",
        "def encryptB(u, k):\n",
        "    # generate subkeys from key k\n",
        "    subkeys = subkeyGen(k)\n",
        "    # first subkey sum\n",
        "    v = ((u + np.concatenate((subkeys[0], subkeys[0]))) % 11).astype(int)\n",
        "\n",
        "    for i in range(4):\n",
        "        # S: substitution\n",
        "        y = substitutionB(v)\n",
        "        # T: transpose\n",
        "        z = transposition(y)\n",
        "        # L: linear transform\n",
        "        w = linear(z)\n",
        "        # compute subkey sum\n",
        "        v = ((w + np.concatenate((subkeys[i+1], subkeys[i+1])) ) % 11).astype(int)\n",
        "\n",
        "    # last iteration without linear step:\n",
        "    # S: substitution\n",
        "    y = substitutionB(v)\n",
        "    # T: transpose\n",
        "    z = transposition(y)\n",
        "    # subkey sum\n",
        "    v = ((z + np.concatenate((subkeys[5], subkeys[5])) ) % 11).astype(int)\n",
        "\n",
        "    return v\n",
        "\n",
        "def decryptB(x, k):\n",
        "    # generate subkeys from key k\n",
        "    subkeys = subkeyGen(k)\n",
        "\n",
        "    # subkey diff\n",
        "    z = ((x + 11 - np.concatenate((subkeys[5], subkeys[5]))) % 11).astype(int)\n",
        "    # inv. T\n",
        "    y = transposition(z)\n",
        "    # inv. S\n",
        "    v = substitutionInvB(y)\n",
        "\n",
        "    for i in range(0, 4):\n",
        "        # subkey diff\n",
        "        w = ((v + 11 - np.concatenate((subkeys[4-i], subkeys[4-i]))) % 11).astype(int)\n",
        "        # inv. L\n",
        "        z = linearInv(w)\n",
        "        # inv. T\n",
        "        y = transposition(z)\n",
        "        # inv. S\n",
        "        v = substitutionInvB(y)\n",
        "\n",
        "    # subkey diff\n",
        "    u = ((v + 11 - np.concatenate((subkeys[0], subkeys[0]))) % 11).astype(int)\n",
        "\n",
        "    return u"
      ],
      "outputs": [],
      "execution_count": 59
    },
    {
      "cell_type": "markdown",
      "id": "9b64eafa-f0d6-4b8d-a313-94131a9f4a51",
      "metadata": {
        "id": "9b64eafa-f0d6-4b8d-a313-94131a9f4a51"
      },
      "source": [
        "Test encryption with given message & key:"
      ]
    },
    {
      "cell_type": "code",
      "id": "afdd69d9-0390-48af-89c4-508df90246dc",
      "metadata": {
        "ExecuteTime": {
          "end_time": "2025-04-06T10:29:12.104660Z",
          "start_time": "2025-04-06T10:29:12.080249Z"
        },
        "colab": {
          "base_uri": "https://localhost:8080/"
        },
        "id": "afdd69d9-0390-48af-89c4-508df90246dc",
        "outputId": "3f05a225-60a9-4611-f733-5513f1f6dd1d"
      },
      "source": [
        "u = np.zeros(8)\n",
        "u[0] = 1\n",
        "k = u.copy()\n",
        "encryptB(u,k)"
      ],
      "outputs": [
        {
          "output_type": "execute_result",
          "data": {
            "text/plain": [
              "array([9, 0, 0, 0, 5, 0, 0, 6])"
            ]
          },
          "metadata": {},
          "execution_count": 60
        }
      ],
      "execution_count": 60
    },
    {
      "cell_type": "markdown",
      "id": "43a62308-618a-4771-894c-7e9ca691dbcd",
      "metadata": {
        "id": "43a62308-618a-4771-894c-7e9ca691dbcd"
      },
      "source": [
        "Test decryption:"
      ]
    },
    {
      "cell_type": "code",
      "id": "920b3c9c-3df9-4415-a74e-f6a6e363e335",
      "metadata": {
        "ExecuteTime": {
          "end_time": "2025-04-06T10:29:12.200519Z",
          "start_time": "2025-04-06T10:29:12.137891Z"
        },
        "colab": {
          "base_uri": "https://localhost:8080/"
        },
        "id": "920b3c9c-3df9-4415-a74e-f6a6e363e335",
        "outputId": "435fe763-2d74-4d76-e8a0-f9e12f770fac"
      },
      "source": [
        "N = 100 # number of test pairs\n",
        "u = np.random.randint(0, 10, size=(N, 8)) # generate random test messages\n",
        "k =  np.random.randint(0, 10, size=(N, 8)) # generate random test keys\n",
        "x = np.array([decryptB(encryptB(u[i], k[i]), k[i]) for i in range(N)]) # encrypt and decrypt the messages\n",
        "print(np.all(u == x)) # check if all decrypted messages match the original ones"
      ],
      "outputs": [
        {
          "output_type": "stream",
          "name": "stdout",
          "text": [
            "True\n"
          ]
        }
      ],
      "execution_count": 61
    },
    {
      "cell_type": "markdown",
      "source": [
        "# Task 6"
      ],
      "metadata": {
        "id": "5WJgEwvGrlrH"
      },
      "id": "5WJgEwvGrlrH"
    },
    {
      "cell_type": "code",
      "source": [
        "\n",
        "p = 11\n",
        "\n",
        "\n",
        "# Compute approximate key for one (u, x) pair\n",
        "def kpa_approx_attack(M_A, M_B, C, u, x):\n",
        "    rhs = (C @ x - M_B @ u) % p\n",
        "    M_A_inv = inv_matrix_mod(M_A, p)\n",
        "    return (M_A_inv @ rhs) % p\n",
        "\n",
        "# Aggregate approximate keys using the mode for each coordinate\n",
        "def aggregate_keys(guesses):\n",
        "    num_coords = len(guesses[0])\n",
        "    aggregated = []\n",
        "    for i in range(num_coords):\n",
        "        values = [int(guess[i]) for guess in guesses]\n",
        "        mode_value, _ = Counter(values).most_common(1)[0]\n",
        "        aggregated.append(mode_value)\n",
        "    return np.array(aggregated)\n",
        "\n",
        "# Return all neighbors of the key within a given Hamming distance\n",
        "def hamming_neighbors(key, max_distance, p):\n",
        "    key = np.array(key)\n",
        "    n = len(key)\n",
        "    neighbors = []\n",
        "    for d in range(max_distance + 1):\n",
        "        for positions in combinations(range(n), d):\n",
        "            if d == 0:\n",
        "                neighbors.append(key)\n",
        "            else:\n",
        "                choices = []\n",
        "                for i in positions:\n",
        "                    choices.append([v for v in range(p) if v != key[i]])\n",
        "                for new_vals in product(*choices):\n",
        "                    candidate = key.copy()\n",
        "                    for idx, pos in enumerate(positions):\n",
        "                        candidate[pos] = new_vals[idx]\n",
        "                    neighbors.append(candidate)\n",
        "    return neighbors\n",
        "\n",
        "# Compute candidate accuracy as the average fraction of zeros in the check vector for all pairs\n",
        "def candidate_accuracy(candidate, u_list, x_list, M_A, M_B, C, p):\n",
        "    accuracies = []\n",
        "    for u, x in zip(u_list, x_list):\n",
        "        approx_vector = (M_A @ candidate + M_B @ u + C @ x) % p\n",
        "        zero_count = np.count_nonzero(approx_vector == 0)\n",
        "        frac = zero_count / len(approx_vector)\n",
        "        accuracies.append(frac)\n",
        "    return np.mean(accuracies)\n",
        "\n",
        "# Exhaustively improve candidate by searching its neighborhood\n",
        "def exhaustive_improve_candidate(candidate, u_list, x_list, M_A, M_B, C, p, max_radius):\n",
        "    best_candidate = candidate.copy()\n",
        "    best_acc = candidate_accuracy(best_candidate, u_list, x_list, M_A, M_B, C, p)\n",
        "    print(\"Initial accuracy of aggregated key:\", best_acc)\n",
        "    neighbors = hamming_neighbors(candidate, max_radius, p)\n",
        "    print(f\"Searching among {len(neighbors)} candidates (Hamming distance ≤ {max_radius})...\")\n",
        "    for cand in neighbors:\n",
        "        acc = candidate_accuracy(cand, u_list, x_list, M_A, M_B, C, p)\n",
        "        if acc > best_acc:\n",
        "            best_candidate = cand.copy()\n",
        "            best_acc = acc\n",
        "            print(f\"Found candidate: {best_candidate} with accuracy {best_acc:.4f}\")\n",
        "    return best_candidate, best_acc\n",
        "\n",
        "# Example KPA pairs\n",
        "pairs = [\n",
        "    ([10, 4, 3, 0, 2, 6, 9, 4], [5, 6, 1, 3, 0, 10, 0, 1]),\n",
        "    ([10, 2, 2, 3, 5, 9, 2, 3], [6, 10, 9, 0, 2, 9, 0, 5]),\n",
        "    ([0, 7, 0, 7, 4, 3, 1, 10], [7, 10, 7, 4, 4, 1, 8, 8]),\n",
        "    ([8, 4, 0, 8, 5, 5, 6, 5], [7, 0, 9, 6, 2, 1, 10, 6]),\n",
        "    ([9, 2, 0, 3, 7, 2, 2, 6], [9, 0, 5, 0, 10, 7, 4, 1]),\n",
        "]\n",
        "u_list = [np.array(u) for u, _ in pairs]\n",
        "x_list = [np.array(x) for _, x in pairs]\n",
        "\n",
        "# Get matrices\n",
        "M_A, M_B = linear_matrices()\n",
        "\n",
        "# Set matrix C = I\n",
        "C = np.eye(8, dtype=int)\n",
        "\n",
        "# Compute approximate keys for each pair\n",
        "approx_keys = []\n",
        "print(\"Approximate keys for each pair:\")\n",
        "for i, (u, x) in enumerate(zip(u_list, x_list)):\n",
        "    k_approx = kpa_approx_attack(M_A, M_B, C, u, x)\n",
        "    print(f\"Pair {i+1}: k̂ ≈ {k_approx}\")\n",
        "    approx_keys.append(k_approx)\n",
        "\n",
        "# Aggregate the approximate keys\n",
        "aggregated_key = aggregate_keys(approx_keys)\n",
        "print(\"\\nAggregated approximate key:\", aggregated_key)\n",
        "\n",
        "# Search for a better candidate in the neighborhood\n",
        "max_radius = 4\n",
        "improved_key, improved_acc = exhaustive_improve_candidate(aggregated_key, u_list, x_list, M_A, M_B, C, p, max_radius)\n",
        "print(\"\\nBest candidate after improvement:\", improved_key)\n",
        "print(\"Achieved accuracy:\", improved_acc)\n"
      ],
      "metadata": {
        "colab": {
          "base_uri": "https://localhost:8080/"
        },
        "id": "U8fGHY1RroiQ",
        "outputId": "400b8f1f-d5fb-4971-afa5-8e7114cabb4f"
      },
      "id": "U8fGHY1RroiQ",
      "execution_count": 69,
      "outputs": [
        {
          "output_type": "stream",
          "name": "stdout",
          "text": [
            "Approximate keys for each pair:\n",
            "Pair 1: k̂ ≈ [1 8 6 7 1 9 7 4]\n",
            "Pair 2: k̂ ≈ [ 6 10  8  6  7  1  1  1]\n",
            "Pair 3: k̂ ≈ [7 8 6 4 8 0 2 0]\n",
            "Pair 4: k̂ ≈ [ 1  0  1  6 10  0  0  5]\n",
            "Pair 5: k̂ ≈ [ 3 10 10  8  0 10  7  2]\n",
            "\n",
            "Aggregated approximate key: [1 8 6 6 1 0 7 4]\n",
            "Initial accuracy of aggregated key: 0.125\n",
            "Searching among 758881 candidates (Hamming distance ≤ 4)...\n",
            "Found candidate: [1 2 6 6 1 0 7 4] with accuracy 0.1750\n",
            "Found candidate: [1 8 8 6 1 0 7 4] with accuracy 0.2000\n",
            "Found candidate: [5 8 8 6 1 0 7 4] with accuracy 0.2250\n",
            "Found candidate: [1 8 6 9 1 8 7 4] with accuracy 0.2500\n",
            "Found candidate: [10  8  9  6  1  3  7  4] with accuracy 0.2750\n",
            "Found candidate: [4 1 3 5 1 0 7 4] with accuracy 0.3000\n",
            "\n",
            "Best candidate after improvement: [4 1 3 5 1 0 7 4]\n",
            "Achieved accuracy: 0.3\n"
          ]
        }
      ]
    },
    {
      "cell_type": "markdown",
      "id": "2442b6b2-885a-4d02-8751-a48d288d411a",
      "metadata": {
        "id": "2442b6b2-885a-4d02-8751-a48d288d411a"
      },
      "source": [
        "## Task 7\n",
        "implement the encryptor for a simplified AES-like cipher with the following parameters .."
      ]
    },
    {
      "cell_type": "code",
      "id": "5b20c77e-e0c6-49da-9427-d57992e0ff33",
      "metadata": {
        "ExecuteTime": {
          "end_time": "2025-04-06T10:29:12.318263Z",
          "start_time": "2025-04-06T10:29:12.284731Z"
        },
        "id": "5b20c77e-e0c6-49da-9427-d57992e0ff33"
      },
      "source": [
        "def subkeyGenC(K):\n",
        "    idx = np.array([\n",
        "        [0, 1, 2, 3],\n",
        "        [0, 1, 3, 2],\n",
        "        [1, 2, 3, 0],\n",
        "        [0, 3, 1, 2],\n",
        "        [2, 3, 0, 1],\n",
        "        [1, 3, 0, 2]\n",
        "    ])\n",
        "    return K[idx]\n",
        "\n",
        "# modular multiplicative inverse table for GF(11)\n",
        "# for v[j] = 0, we set v[j]^-1 to 0\n",
        "inv_table = np.array([0, 1, 6, 4, 3, 9, 2, 8, 7, 5, 10])\n",
        "def substitutionC(v):\n",
        "    return 2*inv_table[v] % 11\n",
        "\n",
        "def substitutionInvC(y):\n",
        "    return inv_table[(6*y) % 11]\n",
        "\n",
        "def encryptC(u, k):\n",
        "    # generate subkeys from key k\n",
        "    subkeys = subkeyGenC(k)\n",
        "    # first subkey sum\n",
        "    v = ((u + np.concatenate((subkeys[0], subkeys[0]))) % 11).astype(int)\n",
        "\n",
        "    for i in range(4):\n",
        "        # S: substitution\n",
        "        y = substitutionC(v)\n",
        "        # T: transpose\n",
        "        z = transposition(y)\n",
        "        # L: linear transform\n",
        "        w = linear(z)\n",
        "        # compute subkey sum\n",
        "        v = ((w + np.concatenate((subkeys[i+1], subkeys[i+1])) ) % 11).astype(int)\n",
        "\n",
        "    # last iteration without linear step:\n",
        "    # S: substitution\n",
        "    y = substitutionC(v)\n",
        "    # T: transpose\n",
        "    z = transposition(y)\n",
        "    # subkey sum\n",
        "    v = ((z + np.concatenate((subkeys[5], subkeys[5])) ) % 11).astype(int)\n",
        "\n",
        "    return v\n",
        "\n",
        "def decryptC(x, k):\n",
        "    # generate subkeys from key k\n",
        "    subkeys = subkeyGenC(k)\n",
        "\n",
        "    # subkey diff\n",
        "    z = ((x + 11 - np.concatenate((subkeys[5], subkeys[5]))) % 11).astype(int)\n",
        "    # inv. T\n",
        "    y = transposition(z)\n",
        "    # inv. S\n",
        "    v = substitutionInvC(y)\n",
        "\n",
        "    for i in range(0, 4):\n",
        "        # subkey diff\n",
        "        w = ((v + 11 - np.concatenate((subkeys[4-i], subkeys[4-i]))) % 11).astype(int)\n",
        "        # inv. L\n",
        "        z = linearInv(w)\n",
        "        # inv. T\n",
        "        y = transposition(z)\n",
        "        # inv. S\n",
        "        v = substitutionInvC(y)\n",
        "\n",
        "    # subkey diff\n",
        "    u = ((v + 11 - np.concatenate((subkeys[0], subkeys[0]))) % 11).astype(int)\n",
        "\n",
        "    return u"
      ],
      "outputs": [],
      "execution_count": 64
    },
    {
      "cell_type": "code",
      "id": "42b69155-9351-4c44-96e4-9a24f4dc2579",
      "metadata": {
        "ExecuteTime": {
          "end_time": "2025-04-06T10:29:12.350432Z",
          "start_time": "2025-04-06T10:29:12.326302Z"
        },
        "colab": {
          "base_uri": "https://localhost:8080/"
        },
        "id": "42b69155-9351-4c44-96e4-9a24f4dc2579",
        "outputId": "a878e287-d8b8-484b-fdf4-3fa05a033c1d"
      },
      "source": [
        "u = np.zeros(8)\n",
        "u[0] = 1\n",
        "k = u.copy()\n",
        "encryptC(u,k)"
      ],
      "outputs": [
        {
          "output_type": "execute_result",
          "data": {
            "text/plain": [
              "array([5, 0, 3, 2, 5, 2, 1, 1])"
            ]
          },
          "metadata": {},
          "execution_count": 65
        }
      ],
      "execution_count": 65
    },
    {
      "cell_type": "code",
      "id": "e77b832b-9157-4946-8bb4-83d1f85bd3b6",
      "metadata": {
        "ExecuteTime": {
          "end_time": "2025-04-06T10:29:12.468727Z",
          "start_time": "2025-04-06T10:29:12.397892Z"
        },
        "colab": {
          "base_uri": "https://localhost:8080/"
        },
        "id": "e77b832b-9157-4946-8bb4-83d1f85bd3b6",
        "outputId": "0486c207-45d6-4c54-af3f-29cc2224a804"
      },
      "source": [
        "N = 100 # number of test pairs\n",
        "u = np.random.randint(0, 10, size=(N, 8)) # generate random test messages\n",
        "k =  np.random.randint(0, 10, size=(N, 8)) # generate random test keys\n",
        "x = np.array([decryptC(encryptC(u[i], k[i]), k[i]) for i in range(N)]) # encrypt and decrypt the messages\n",
        "print(np.all(u == x)) # check if all decrypted messages match the original ones"
      ],
      "outputs": [
        {
          "output_type": "stream",
          "name": "stdout",
          "text": [
            "True\n"
          ]
        }
      ],
      "execution_count": 66
    },
    {
      "metadata": {
        "id": "b087dc694ec0ad85"
      },
      "cell_type": "markdown",
      "source": [
        "# Task 8"
      ],
      "id": "b087dc694ec0ad85"
    },
    {
      "metadata": {
        "ExecuteTime": {
          "end_time": "2025-04-06T10:29:12.566393Z",
          "start_time": "2025-04-06T10:29:12.534114Z"
        },
        "id": "9cb055ba0f6e0c4a"
      },
      "cell_type": "code",
      "source": [
        "def key_gen():\n",
        "    return np.random.randint(0, 11, 4)\n",
        "\n",
        "def meet_in_the_middle(encrypt_fn, decrypt_fn, P_list, C_list, key_samples=80000):\n",
        "    print(\"Generating random key candidates...\")\n",
        "\n",
        "    # Generate unique random keys for K1 and K2\n",
        "    keys1 = np.unique([key_gen() for _ in range(key_samples)], axis=0).tolist()\n",
        "    keys2 = np.unique([key_gen() for _ in range(key_samples)], axis=0).tolist()\n",
        "\n",
        "    print(f\"Keys1: {len(keys1)}, Keys2: {len(keys2)}\")\n",
        "\n",
        "    print(\"\\n→ Computing encryptions of all plaintexts with each k1...\")\n",
        "    enc_map = {}\n",
        "    for i, k1 in enumerate(keys1):\n",
        "        all_outputs = []\n",
        "        for P in P_list:\n",
        "            out = encrypt_fn(np.array(P), np.pad(k1, (0, 4), constant_values=0))\n",
        "            all_outputs.append(tuple(out.tolist()))\n",
        "        enc_map[tuple(all_outputs)] = k1\n",
        "\n",
        "    print(\"\\n← Computing decryptions of all ciphertexts with each k2 and matching...\")\n",
        "    for j, k2 in enumerate(keys2):\n",
        "        all_outputs = []\n",
        "        for C in C_list:\n",
        "            out = decrypt_fn(np.array(C), np.pad(k2, (0, 4), constant_values=0))\n",
        "            all_outputs.append(tuple(out.tolist()))\n",
        "\n",
        "        key = tuple(all_outputs)\n",
        "        if key in enc_map:\n",
        "            k1 = enc_map[key]\n",
        "            print(\"\\nFound matching key pair!\")\n",
        "            print(\"k1:\", k1)\n",
        "            print(\"k2:\", k2)\n",
        "            return k1, k2\n",
        "\n",
        "    print(\"No match found.\")\n",
        "    return None, None"
      ],
      "id": "9cb055ba0f6e0c4a",
      "outputs": [],
      "execution_count": 67
    },
    {
      "metadata": {
        "ExecuteTime": {
          "end_time": "2025-04-06T10:29:28.610129Z",
          "start_time": "2025-04-06T10:29:12.679222Z"
        },
        "colab": {
          "base_uri": "https://localhost:8080/"
        },
        "id": "9a443182ed7b86f5",
        "outputId": "8dd8282f-20b1-4f6e-b0d0-b15b88e136c6"
      },
      "cell_type": "code",
      "source": [
        "plaintexts = [\n",
        "    [4, 1, 6, 10, 2, 3, 5, 10],\n",
        "    [10, 5, 4, 4, 7, 3, 2, 0],\n",
        "    [2, 6, 8, 0, 6, 8, 10, 9],\n",
        "    [3, 7, 2, 10, 1, 6, 9, 0],\n",
        "    [5, 1, 6, 3, 10, 8, 8, 10],\n",
        "]\n",
        "\n",
        "ciphertexts = [\n",
        "    [2, 1, 4, 0, 6, 7, 5, 5],\n",
        "    [2, 8, 6, 2, 6, 2, 10, 0],\n",
        "    [5, 5, 1, 4, 10, 2, 9, 2],\n",
        "    [3, 8, 10, 10, 10, 9, 7, 8],\n",
        "    [10, 0, 8, 10, 2, 10, 2, 2],\n",
        "]\n",
        "\n",
        "k1, k2 = meet_in_the_middle(encryptC, decryptC, plaintexts, ciphertexts, key_samples=80000)"
      ],
      "id": "9a443182ed7b86f5",
      "outputs": [
        {
          "output_type": "stream",
          "name": "stdout",
          "text": [
            "Generating random key candidates...\n",
            "Keys1: 14578, Keys2: 14573\n",
            "\n",
            "→ Computing encryptions of all plaintexts with each k1...\n",
            "\n",
            "← Computing decryptions of all ciphertexts with each k2 and matching...\n",
            "\n",
            "Found matching key pair!\n",
            "k1: [0, 3, 10, 10]\n",
            "k2: [1, 9, 8, 0]\n"
          ]
        }
      ],
      "execution_count": 68
    }
  ],
  "metadata": {
    "kernelspec": {
      "display_name": "Python 3 (ipykernel)",
      "language": "python",
      "name": "python3"
    },
    "language_info": {
      "codemirror_mode": {
        "name": "ipython",
        "version": 3
      },
      "file_extension": ".py",
      "mimetype": "text/x-python",
      "name": "python",
      "nbconvert_exporter": "python",
      "pygments_lexer": "ipython3",
      "version": "3.12.4"
    },
    "colab": {
      "provenance": []
    }
  },
  "nbformat": 4,
  "nbformat_minor": 5
}
