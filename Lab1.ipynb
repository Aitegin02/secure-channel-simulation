{
 "cells": [
  {
   "cell_type": "markdown",
   "id": "1cde0080-341b-4d4e-aff9-f50ad37b440f",
   "metadata": {},
   "source": [
    "# Implementation and linear cryptanalysis of a simplified AES-like cipher \n",
    "Laboratory session 1 of *Information Security*, AY 2024/25"
   ]
  },
  {
   "cell_type": "markdown",
   "id": "401d9b76-214c-4b3b-bea4-54636502207d",
   "metadata": {},
   "source": [
    "To Do:\n",
    "- precautions for input shape or type mismatches\n",
    "- proper function documentation"
   ]
  },
  {
   "cell_type": "code",
   "id": "ee4081db-1da6-4f44-9985-f5798f202904",
   "metadata": {
    "ExecuteTime": {
     "end_time": "2025-04-05T08:52:15.394792Z",
     "start_time": "2025-04-05T08:52:15.346558Z"
    }
   },
   "source": [
    "# library imports\n",
    "import numpy as np\n",
    "from itertools import product\n",
    "from tqdm import tqdm"
   ],
   "outputs": [],
   "execution_count": 29
  },
  {
   "cell_type": "markdown",
   "id": "7c9203b1-ae0a-454a-8403-d1c8daefadc0",
   "metadata": {},
   "source": [
    "## Task 1\n",
    "Using a programming language of your choice, implement the encryptor for a simplified\n",
    "AES-like cipher."
   ]
  },
  {
   "cell_type": "markdown",
   "id": "7d49c841-2342-49ee-b80a-51ad2ad9c4b8",
   "metadata": {},
   "source": [
    "Soooo let's do helper functions for \n",
    "- subkey generation\n",
    "- substitution S\n",
    "- transposition T\n",
    "- linear transformation L"
   ]
  },
  {
   "cell_type": "code",
   "id": "b7320cad-8219-47a2-9e91-ce52b1efd6b4",
   "metadata": {
    "ExecuteTime": {
     "end_time": "2025-04-05T08:38:12.310852Z",
     "start_time": "2025-04-05T08:38:12.282478Z"
    }
   },
   "source": [
    "def substitution(v):\n",
    "    return (2*v) % 11\n",
    "\n",
    "def transposition(y):\n",
    "    # returns copy of y with 2nd half flipped\n",
    "    # assuming y has an even length\n",
    "    h = len(y)//2 # halfway point\n",
    "    z = np.copy(y)\n",
    "    z[h:]= z[h:][::-1]\n",
    "    return z\n",
    "\n",
    "A = np.array([[2,5],[1,7]])\n",
    "def linear(z):\n",
    "    W = z.reshape((2,4))\n",
    "    w = (A @ W) % 11\n",
    "    return w.flatten()\n",
    "\n",
    "def subkeyGen(K):\n",
    "    idx = np.array([\n",
    "        [0, 2, 4, 6],\n",
    "        [0, 1, 2, 3],\n",
    "        [0, 3, 4, 7],\n",
    "        [0, 3, 5, 6],\n",
    "        [0, 2, 5, 7],\n",
    "        [2, 3, 4, 5]\n",
    "    ])\n",
    "    return K[idx]"
   ],
   "outputs": [],
   "execution_count": 2
  },
  {
   "cell_type": "markdown",
   "id": "a6bcb34a-24d7-4dfd-a116-60e5a370575c",
   "metadata": {},
   "source": [
    "Put everything together in an encryptor function:"
   ]
  },
  {
   "cell_type": "code",
   "id": "2805eedd-84f0-429d-ae9e-c5eeee16f645",
   "metadata": {
    "ExecuteTime": {
     "end_time": "2025-04-05T08:38:15.003737Z",
     "start_time": "2025-04-05T08:38:14.988604Z"
    }
   },
   "source": [
    "def encryptA(u, k):\n",
    "    # generate subkeys from key k\n",
    "    subkeys = subkeyGen(k)\n",
    "    # first subkey sum\n",
    "    v = (u + np.concatenate((subkeys[0], subkeys[0]))) % 11 \n",
    "\n",
    "    for i in range(4):\n",
    "        # S: perform substitution\n",
    "        y = substitution(v)\n",
    "        # T: transpose\n",
    "        z = transposition(y)\n",
    "        # L: linear transform\n",
    "        w = linear(z)\n",
    "        # compute subkey sum\n",
    "        v = (w + np.concatenate((subkeys[i+1], subkeys[i+1])) ) % 11\n",
    "\n",
    "    # last iteration without linear step:\n",
    "    # S: perform substitution\n",
    "    y = substitution(v)\n",
    "    # T: transpose\n",
    "    z = transposition(y)\n",
    "    # subkey sum\n",
    "    v = (z + np.concatenate((subkeys[5], subkeys[5])) ) % 11\n",
    "        \n",
    "    return v"
   ],
   "outputs": [],
   "execution_count": 3
  },
  {
   "cell_type": "markdown",
   "id": "68bb6cea-b63c-4c75-967b-de46cbcbf08c",
   "metadata": {},
   "source": [
    "Test with given test message & key:"
   ]
  },
  {
   "cell_type": "code",
   "id": "7a4a433b-c872-4fe0-aaf8-54affe1df59c",
   "metadata": {
    "ExecuteTime": {
     "end_time": "2025-04-05T08:38:18.078179Z",
     "start_time": "2025-04-05T08:38:17.872033Z"
    }
   },
   "source": [
    "u = np.zeros(8)\n",
    "u[0] = 1\n",
    "k = u.copy()\n",
    "encryptA(u,k)"
   ],
   "outputs": [
    {
     "data": {
      "text/plain": [
       "array([4., 0., 0., 9., 7., 0., 0., 3.])"
      ]
     },
     "execution_count": 4,
     "metadata": {},
     "output_type": "execute_result"
    }
   ],
   "execution_count": 4
  },
  {
   "cell_type": "markdown",
   "id": "aef691b9-083c-497c-9346-064f9138f87e",
   "metadata": {},
   "source": [
    "## Task 2\n",
    "Implement the decryptor for this simplified AES-like cipher. Note that decryption is performed by the inverse blocks in reverse order. Therefore, you have to implement the inverse of each function used to encrypt the message (subkey sum, substitution, transposition and linear), taking into consideration that all the operations must be done in the field F = GF(p)."
   ]
  },
  {
   "cell_type": "markdown",
   "id": "d7d1a601-adc1-43ea-a266-962c45f7a001",
   "metadata": {},
   "source": [
    "The transposition (flipping the 2nd half of the vector) is its own inverse here. For the linear transformation, \n"
   ]
  },
  {
   "cell_type": "code",
   "id": "65fc6410-3045-45c2-8541-b74fabf652bd",
   "metadata": {
    "ExecuteTime": {
     "end_time": "2025-04-05T08:38:20.136881Z",
     "start_time": "2025-04-05T08:38:20.097808Z"
    }
   },
   "source": [
    "def substitutionInv(v):\n",
    "    return 6*v % 11\n",
    "\n",
    "A_inv = np.array([[2, 8],[6, 10]])\n",
    "def linearInv(w):\n",
    "    W = w.reshape((2,4))\n",
    "    z = (A_inv @ W) % 11\n",
    "    return z.flatten()\n",
    "\n",
    "def decryptA(x, k):\n",
    "    # generate subkeys from key k\n",
    "    subkeys = subkeyGen(k)\n",
    "    \n",
    "    # subkey diff\n",
    "    z = (x + 11 - np.concatenate((subkeys[5], subkeys[5]))) % 11\n",
    "    # T^-1: inverse transposition\n",
    "    y = transposition(z)\n",
    "    # S^-1: inv. substitution\n",
    "    v = substitutionInv(y)\n",
    "\n",
    "    for i in range(0, 4):\n",
    "        # subkey diff\n",
    "        w = (v + 11 - np.concatenate((subkeys[4-i], subkeys[4-i]))) % 11\n",
    "        # L^-1: inverse linear trafo\n",
    "        z = linearInv(w)\n",
    "        # T^-^: inverse transposition\n",
    "        y = transposition(z)\n",
    "        # S^-1: inv. substitution\n",
    "        v = substitutionInv(y)\n",
    "\n",
    "    # subkey diff\n",
    "    u = (v + 11 - np.concatenate((subkeys[0], subkeys[0]))) % 11\n",
    "        \n",
    "    return u"
   ],
   "outputs": [],
   "execution_count": 5
  },
  {
   "cell_type": "code",
   "id": "c024ecc5-95d3-409e-a0db-12d025a504be",
   "metadata": {
    "ExecuteTime": {
     "end_time": "2025-04-05T08:38:20.870371Z",
     "start_time": "2025-04-05T08:38:20.770704Z"
    }
   },
   "source": [
    "N = 100 # number of test pairs\n",
    "u = np.random.randint(0, 10, size=(N, 8)) # generate random test messages\n",
    "k =  np.random.randint(0, 10, size=(N, 8)) # generate random test keys\n",
    "x = np.array([decryptA(encryptA(u[i], k[i]), k[i]) for i in range(N)]) # encrypt and decrypt the messages\n",
    "print(np.all(u == x)) # check if all decrypted messages match the original ones"
   ],
   "outputs": [
    {
     "name": "stdout",
     "output_type": "stream",
     "text": [
      "True\n"
     ]
    }
   ],
   "execution_count": 6
  },
  {
   "cell_type": "markdown",
   "id": "34c1878a-c697-4d1c-9d17-c712c0ace23f",
   "metadata": {},
   "source": [
    "## Task 5\n",
    "implement the encryptor for a simplified AES-like cipher with the parameters given in the\n",
    "previous slides and the substitution function described by the following table\n"
   ]
  },
  {
   "cell_type": "code",
   "id": "3488571e-c994-4925-9a67-b161175a83ba",
   "metadata": {
    "ExecuteTime": {
     "end_time": "2025-04-05T08:38:22.920926Z",
     "start_time": "2025-04-05T08:38:22.870993Z"
    }
   },
   "source": [
    "s_table = np.array([0, 2, 4, 8, 6, 10, 1, 3, 5, 7, 9])\n",
    "s_table_inv = np.argsort(s_table)\n",
    "\n",
    "def substitutionB(v):\n",
    "    return s_table[v]\n",
    "\n",
    "def substitutionInvB(v):\n",
    "    return s_table_inv[v]\n",
    "    \n",
    "def encryptB(u, k):\n",
    "    # generate subkeys from key k\n",
    "    subkeys = subkeyGen(k)\n",
    "    # first subkey sum\n",
    "    v = ((u + np.concatenate((subkeys[0], subkeys[0]))) % 11).astype(int)\n",
    "\n",
    "    for i in range(4):\n",
    "        # S: substitution\n",
    "        y = substitutionB(v)\n",
    "        # T: transpose\n",
    "        z = transposition(y)\n",
    "        # L: linear transform\n",
    "        w = linear(z)\n",
    "        # compute subkey sum\n",
    "        v = ((w + np.concatenate((subkeys[i+1], subkeys[i+1])) ) % 11).astype(int)\n",
    "\n",
    "    # last iteration without linear step:\n",
    "    # S: substitution\n",
    "    y = substitutionB(v)\n",
    "    # T: transpose\n",
    "    z = transposition(y)\n",
    "    # subkey sum\n",
    "    v = ((z + np.concatenate((subkeys[5], subkeys[5])) ) % 11).astype(int)\n",
    "        \n",
    "    return v\n",
    "\n",
    "def decryptB(x, k):\n",
    "    # generate subkeys from key k\n",
    "    subkeys = subkeyGen(k)\n",
    "    \n",
    "    # subkey diff\n",
    "    z = ((x + 11 - np.concatenate((subkeys[5], subkeys[5]))) % 11).astype(int)\n",
    "    # inv. T\n",
    "    y = transposition(z)\n",
    "    # inv. S\n",
    "    v = substitutionInvB(y)\n",
    "\n",
    "    for i in range(0, 4):\n",
    "        # subkey diff\n",
    "        w = ((v + 11 - np.concatenate((subkeys[4-i], subkeys[4-i]))) % 11).astype(int)\n",
    "        # inv. L \n",
    "        z = linearInv(w)\n",
    "        # inv. T\n",
    "        y = transposition(z)\n",
    "        # inv. S\n",
    "        v = substitutionInvB(y)\n",
    "\n",
    "    # subkey diff\n",
    "    u = ((v + 11 - np.concatenate((subkeys[0], subkeys[0]))) % 11).astype(int)\n",
    "        \n",
    "    return u"
   ],
   "outputs": [],
   "execution_count": 7
  },
  {
   "cell_type": "markdown",
   "id": "9b64eafa-f0d6-4b8d-a313-94131a9f4a51",
   "metadata": {},
   "source": [
    "Test encryption with given message & key:"
   ]
  },
  {
   "cell_type": "code",
   "id": "afdd69d9-0390-48af-89c4-508df90246dc",
   "metadata": {
    "ExecuteTime": {
     "end_time": "2025-04-05T08:38:25.432429Z",
     "start_time": "2025-04-05T08:38:25.407883Z"
    }
   },
   "source": [
    "u = np.zeros(8)\n",
    "u[0] = 1\n",
    "k = u.copy()\n",
    "encryptB(u,k)"
   ],
   "outputs": [
    {
     "data": {
      "text/plain": [
       "array([9, 0, 0, 0, 5, 0, 0, 6])"
      ]
     },
     "execution_count": 8,
     "metadata": {},
     "output_type": "execute_result"
    }
   ],
   "execution_count": 8
  },
  {
   "cell_type": "markdown",
   "id": "43a62308-618a-4771-894c-7e9ca691dbcd",
   "metadata": {},
   "source": [
    "Test decryption:"
   ]
  },
  {
   "cell_type": "code",
   "id": "920b3c9c-3df9-4415-a74e-f6a6e363e335",
   "metadata": {
    "ExecuteTime": {
     "end_time": "2025-04-05T08:38:30.207967Z",
     "start_time": "2025-04-05T08:38:30.091487Z"
    }
   },
   "source": [
    "N = 100 # number of test pairs\n",
    "u = np.random.randint(0, 10, size=(N, 8)) # generate random test messages\n",
    "k =  np.random.randint(0, 10, size=(N, 8)) # generate random test keys\n",
    "x = np.array([decryptB(encryptB(u[i], k[i]), k[i]) for i in range(N)]) # encrypt and decrypt the messages\n",
    "print(np.all(u == x)) # check if all decrypted messages match the original ones"
   ],
   "outputs": [
    {
     "name": "stdout",
     "output_type": "stream",
     "text": [
      "True\n"
     ]
    }
   ],
   "execution_count": 9
  },
  {
   "cell_type": "markdown",
   "id": "2442b6b2-885a-4d02-8751-a48d288d411a",
   "metadata": {},
   "source": [
    "## Task 7\n",
    "implement the encryptor for a simplified AES-like cipher with the following parameters .."
   ]
  },
  {
   "cell_type": "code",
   "id": "5b20c77e-e0c6-49da-9427-d57992e0ff33",
   "metadata": {
    "ExecuteTime": {
     "end_time": "2025-04-05T08:38:37.447950Z",
     "start_time": "2025-04-05T08:38:37.406214Z"
    }
   },
   "source": [
    "def subkeyGenC(K):\n",
    "    idx = np.array([\n",
    "        [0, 1, 2, 3],\n",
    "        [0, 1, 3, 2],\n",
    "        [1, 2, 3, 0],\n",
    "        [0, 3, 1, 2],\n",
    "        [2, 3, 0, 1],\n",
    "        [1, 3, 0, 2]\n",
    "    ])\n",
    "    return K[idx]\n",
    "\n",
    "# modular multiplicative inverse table for GF(11)\n",
    "# for v[j] = 0, we set v[j]^-1 to 0\n",
    "inv_table = np.array([0, 1, 6, 4, 3, 9, 2, 8, 7, 5, 10])\n",
    "def substitutionC(v):\n",
    "    return 2*inv_table[v] % 11\n",
    "\n",
    "def substitutionInvC(y):\n",
    "    return inv_table[(6*y) % 11]\n",
    "    \n",
    "def encryptC(u, k):\n",
    "    # generate subkeys from key k\n",
    "    subkeys = subkeyGenC(k)\n",
    "    # first subkey sum\n",
    "    v = ((u + np.concatenate((subkeys[0], subkeys[0]))) % 11).astype(int)\n",
    "\n",
    "    for i in range(4):\n",
    "        # S: substitution\n",
    "        y = substitutionC(v)\n",
    "        # T: transpose\n",
    "        z = transposition(y)\n",
    "        # L: linear transform\n",
    "        w = linear(z)\n",
    "        # compute subkey sum\n",
    "        v = ((w + np.concatenate((subkeys[i+1], subkeys[i+1])) ) % 11).astype(int)\n",
    "\n",
    "    # last iteration without linear step:\n",
    "    # S: substitution\n",
    "    y = substitutionC(v)\n",
    "    # T: transpose\n",
    "    z = transposition(y)\n",
    "    # subkey sum\n",
    "    v = ((z + np.concatenate((subkeys[5], subkeys[5])) ) % 11).astype(int)\n",
    "        \n",
    "    return v\n",
    "\n",
    "def decryptC(x, k):\n",
    "    # generate subkeys from key k\n",
    "    subkeys = subkeyGenC(k)\n",
    "    \n",
    "    # subkey diff\n",
    "    z = ((x + 11 - np.concatenate((subkeys[5], subkeys[5]))) % 11).astype(int)\n",
    "    # inv. T\n",
    "    y = transposition(z)\n",
    "    # inv. S\n",
    "    v = substitutionInvC(y)\n",
    "\n",
    "    for i in range(0, 4):\n",
    "        # subkey diff\n",
    "        w = ((v + 11 - np.concatenate((subkeys[4-i], subkeys[4-i]))) % 11).astype(int)\n",
    "        # inv. L \n",
    "        z = linearInv(w)\n",
    "        # inv. T\n",
    "        y = transposition(z)\n",
    "        # inv. S\n",
    "        v = substitutionInvC(y)\n",
    "\n",
    "    # subkey diff\n",
    "    u = ((v + 11 - np.concatenate((subkeys[0], subkeys[0]))) % 11).astype(int)\n",
    "        \n",
    "    return u"
   ],
   "outputs": [],
   "execution_count": 10
  },
  {
   "cell_type": "code",
   "id": "42b69155-9351-4c44-96e4-9a24f4dc2579",
   "metadata": {
    "ExecuteTime": {
     "end_time": "2025-04-05T08:38:39.095974Z",
     "start_time": "2025-04-05T08:38:39.066370Z"
    }
   },
   "source": [
    "u = np.zeros(8)\n",
    "u[0] = 1\n",
    "k = u.copy()\n",
    "encryptC(u,k)"
   ],
   "outputs": [
    {
     "data": {
      "text/plain": [
       "array([5, 0, 3, 2, 5, 2, 1, 1])"
      ]
     },
     "execution_count": 11,
     "metadata": {},
     "output_type": "execute_result"
    }
   ],
   "execution_count": 11
  },
  {
   "cell_type": "code",
   "id": "e77b832b-9157-4946-8bb4-83d1f85bd3b6",
   "metadata": {
    "ExecuteTime": {
     "end_time": "2025-04-05T08:38:40.473112Z",
     "start_time": "2025-04-05T08:38:40.236962Z"
    }
   },
   "source": [
    "N = 100 # number of test pairs\n",
    "u = np.random.randint(0, 10, size=(N, 8)) # generate random test messages\n",
    "k =  np.random.randint(0, 10, size=(N, 8)) # generate random test keys\n",
    "x = np.array([decryptC(encryptC(u[i], k[i]), k[i]) for i in range(N)]) # encrypt and decrypt the messages\n",
    "print(np.all(u == x)) # check if all decrypted messages match the original ones"
   ],
   "outputs": [
    {
     "name": "stdout",
     "output_type": "stream",
     "text": [
      "True\n"
     ]
    }
   ],
   "execution_count": 12
  },
  {
   "metadata": {},
   "cell_type": "markdown",
   "source": "Task 8",
   "id": "b087dc694ec0ad85"
  },
  {
   "metadata": {
    "ExecuteTime": {
     "end_time": "2025-04-05T09:01:52.502743Z",
     "start_time": "2025-04-05T09:01:52.472451Z"
    }
   },
   "cell_type": "code",
   "source": [
    "def meet_in_the_middle_attack(encrypt_fn, decrypt_fn, P_list, C_list, keyspace_size=5):\n",
    "    for pair_idx, (P, C) in enumerate(zip(P_list, C_list)):\n",
    "        print(f\"\\nTesting Pair #{pair_idx+1}\")\n",
    "        P = np.array(P, dtype=int)\n",
    "        C = np.array(C, dtype=int)\n",
    "\n",
    "        forward_map = {}\n",
    "\n",
    "        print(\"→ Generating forward map...\")\n",
    "        for k1_vals in tqdm(product(range(11), repeat=keyspace_size), total=11**keyspace_size):\n",
    "            k1 = np.zeros(8, dtype=int)\n",
    "            k1[:keyspace_size] = k1_vals\n",
    "            mid = encrypt_fn(P, k1)\n",
    "            forward_map[tuple(mid.tolist())] = k1\n",
    "\n",
    "        print(\"← Searching for reverse matches...\")\n",
    "        for k2_vals in tqdm(product(range(11), repeat=keyspace_size), total=11**keyspace_size):\n",
    "            k2 = np.zeros(8, dtype=int)\n",
    "            k2[:keyspace_size] = k2_vals\n",
    "            mid_candidate = decrypt_fn(C, k2)\n",
    "            if tuple(mid_candidate.tolist()) in forward_map:\n",
    "                k1 = forward_map[tuple(mid_candidate.tolist())]\n",
    "                print(f\"\\nMatch Found!\")\n",
    "                print(f\"Plaintext: {P}\")\n",
    "                print(f\"Ciphertext: {C}\")\n",
    "                print(f\"k1: {k1}\")\n",
    "                print(f\"k2: {k2}\")\n",
    "\n",
    "                # Verify correctness\n",
    "                test = encrypt_fn(encrypt_fn(P, k1), k2)\n",
    "                print(\"Double encryption result:\", test)\n",
    "                print(\"Valid:\", np.all(test == C))\n",
    "                break\n",
    "        else:\n",
    "            print(\"No match found for this pair.\")"
   ],
   "id": "9cb055ba0f6e0c4a",
   "outputs": [],
   "execution_count": 34
  },
  {
   "metadata": {
    "ExecuteTime": {
     "end_time": "2025-04-05T09:03:57.939558Z",
     "start_time": "2025-04-05T09:01:54.264520Z"
    }
   },
   "cell_type": "code",
   "source": [
    "plaintexts = [\n",
    "    [4, 1, 6, 10, 2, 3, 5, 10],\n",
    "    [10, 5, 4, 4, 7, 3, 2, 0],\n",
    "    [2, 6, 8, 0, 6, 8, 10, 9],\n",
    "    [3, 7, 2, 10, 1, 6, 9, 0],\n",
    "    [5, 1, 6, 3, 10, 8, 8, 10],\n",
    "]\n",
    "\n",
    "ciphertexts = [\n",
    "    [2, 1, 4, 0, 6, 7, 5, 5],\n",
    "    [2, 8, 6, 2, 6, 2, 10, 0],\n",
    "    [5, 5, 1, 4, 10, 2, 9, 2],\n",
    "    [3, 8, 10, 10, 10, 9, 7, 8],\n",
    "    [10, 0, 8, 10, 2, 10, 2, 2],\n",
    "]\n",
    "\n",
    "# Now run it\n",
    "meet_in_the_middle_attack(encryptB, decryptB, plaintexts, ciphertexts, keyspace_size=5)"
   ],
   "id": "9a443182ed7b86f5",
   "outputs": [
    {
     "name": "stdout",
     "output_type": "stream",
     "text": [
      "\n",
      "Testing Pair #1\n",
      "→ Generating forward map...\n"
     ]
    },
    {
     "name": "stderr",
     "output_type": "stream",
     "text": [
      "100%|██████████| 161051/161051 [00:26<00:00, 6087.85it/s]\n"
     ]
    },
    {
     "name": "stdout",
     "output_type": "stream",
     "text": [
      "← Searching for reverse matches...\n"
     ]
    },
    {
     "name": "stderr",
     "output_type": "stream",
     "text": [
      "  1%|          | 1708/161051 [00:00<00:31, 5053.39it/s]\n"
     ]
    },
    {
     "name": "stdout",
     "output_type": "stream",
     "text": [
      "\n",
      "Match Found!\n",
      "Plaintext: [ 4  1  6 10  2  3  5 10]\n",
      "Ciphertext: [2 1 4 0 6 7 5 5]\n",
      "k1: [1 4 1 9 9 0 0 0]\n",
      "k2: [0 1 3 1 3 0 0 0]\n",
      "Double encryption result: [2 1 4 0 6 7 5 5]\n",
      "Valid: True\n",
      "\n",
      "Testing Pair #2\n",
      "→ Generating forward map...\n"
     ]
    },
    {
     "name": "stderr",
     "output_type": "stream",
     "text": [
      "100%|██████████| 161051/161051 [00:23<00:00, 6768.95it/s]\n"
     ]
    },
    {
     "name": "stdout",
     "output_type": "stream",
     "text": [
      "← Searching for reverse matches...\n"
     ]
    },
    {
     "name": "stderr",
     "output_type": "stream",
     "text": [
      "  0%|          | 101/161051 [00:00<00:24, 6441.00it/s]\n"
     ]
    },
    {
     "name": "stdout",
     "output_type": "stream",
     "text": [
      "\n",
      "Match Found!\n",
      "Plaintext: [10  5  4  4  7  3  2  0]\n",
      "Ciphertext: [ 2  8  6  2  6  2 10  0]\n",
      "k1: [4 2 5 5 7 0 0 0]\n",
      "k2: [0 0 0 9 2 0 0 0]\n",
      "Double encryption result: [ 2  8  6  2  6  2 10  0]\n",
      "Valid: True\n",
      "\n",
      "Testing Pair #3\n",
      "→ Generating forward map...\n"
     ]
    },
    {
     "name": "stderr",
     "output_type": "stream",
     "text": [
      "100%|██████████| 161051/161051 [00:25<00:00, 6206.35it/s]\n"
     ]
    },
    {
     "name": "stdout",
     "output_type": "stream",
     "text": [
      "← Searching for reverse matches...\n"
     ]
    },
    {
     "name": "stderr",
     "output_type": "stream",
     "text": [
      "  1%|          | 1856/161051 [00:00<00:28, 5582.65it/s]\n"
     ]
    },
    {
     "name": "stdout",
     "output_type": "stream",
     "text": [
      "\n",
      "Match Found!\n",
      "Plaintext: [ 2  6  8  0  6  8 10  9]\n",
      "Ciphertext: [ 5  5  1  4 10  2  9  2]\n",
      "k1: [5 9 8 3 9 0 0 0]\n",
      "k2: [0 1 4 3 8 0 0 0]\n",
      "Double encryption result: [ 5  5  1  4 10  2  9  2]\n",
      "Valid: True\n",
      "\n",
      "Testing Pair #4\n",
      "→ Generating forward map...\n"
     ]
    },
    {
     "name": "stderr",
     "output_type": "stream",
     "text": [
      "100%|██████████| 161051/161051 [00:23<00:00, 6847.90it/s]\n"
     ]
    },
    {
     "name": "stdout",
     "output_type": "stream",
     "text": [
      "← Searching for reverse matches...\n"
     ]
    },
    {
     "name": "stderr",
     "output_type": "stream",
     "text": [
      "  1%|          | 1249/161051 [00:00<00:24, 6605.19it/s]\n"
     ]
    },
    {
     "name": "stdout",
     "output_type": "stream",
     "text": [
      "\n",
      "Match Found!\n",
      "Plaintext: [ 3  7  2 10  1  6  9  0]\n",
      "Ciphertext: [ 3  8 10 10 10  9  7  8]\n",
      "k1: [1 2 5 9 7 0 0 0]\n",
      "k2: [ 0  0 10  3  6  0  0  0]\n",
      "Double encryption result: [ 3  8 10 10 10  9  7  8]\n",
      "Valid: True\n",
      "\n",
      "Testing Pair #5\n",
      "→ Generating forward map...\n"
     ]
    },
    {
     "name": "stderr",
     "output_type": "stream",
     "text": [
      "100%|██████████| 161051/161051 [00:22<00:00, 7144.81it/s]\n"
     ]
    },
    {
     "name": "stdout",
     "output_type": "stream",
     "text": [
      "← Searching for reverse matches...\n"
     ]
    },
    {
     "name": "stderr",
     "output_type": "stream",
     "text": [
      "  0%|          | 654/161051 [00:00<00:27, 5928.69it/s]"
     ]
    },
    {
     "name": "stdout",
     "output_type": "stream",
     "text": [
      "\n",
      "Match Found!\n",
      "Plaintext: [ 5  1  6  3 10  8  8 10]\n",
      "Ciphertext: [10  0  8 10  2 10  2  2]\n",
      "k1: [10  3  6  4  8  0  0  0]\n",
      "k2: [0 0 5 4 5 0 0 0]\n",
      "Double encryption result: [10  0  8 10  2 10  2  2]\n",
      "Valid: True\n"
     ]
    },
    {
     "name": "stderr",
     "output_type": "stream",
     "text": [
      "\n"
     ]
    }
   ],
   "execution_count": 35
  }
 ],
 "metadata": {
  "kernelspec": {
   "display_name": "Python 3 (ipykernel)",
   "language": "python",
   "name": "python3"
  },
  "language_info": {
   "codemirror_mode": {
    "name": "ipython",
    "version": 3
   },
   "file_extension": ".py",
   "mimetype": "text/x-python",
   "name": "python",
   "nbconvert_exporter": "python",
   "pygments_lexer": "ipython3",
   "version": "3.12.4"
  }
 },
 "nbformat": 4,
 "nbformat_minor": 5
}
