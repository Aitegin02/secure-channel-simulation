{
 "cells": [
  {
   "cell_type": "markdown",
   "id": "09c5ed12-ae6d-48d2-abcf-f37b91b5b8e3",
   "metadata": {},
   "source": [
    "# Lab 3: Message authentication and Integrity protection\n",
    "Laboratory session 3 of *Information Security*, AY 2024/25. In this notebook, we implement an authentication scheme and evaluate its weakness through a substitution and a forging attack.\n"
   ]
  },
  {
   "cell_type": "code",
   "execution_count": 1,
   "id": "56de42660f265c20",
   "metadata": {
    "ExecuteTime": {
     "end_time": "2025-04-22T07:52:57.160437Z",
     "start_time": "2025-04-22T07:52:54.726893Z"
    },
    "id": "56de42660f265c20"
   },
   "outputs": [],
   "source": [
    "# library imports\n",
    "import numpy as np\n",
    "import matplotlib.pyplot as plt\n",
    "import random"
   ]
  },
  {
   "cell_type": "markdown",
   "id": "e98747d3-77c6-48b0-8cf3-a00b7303838a",
   "metadata": {},
   "source": [
    "## Task 1: Authentication scheme\n",
    "Consider the following symmetric scheme for message authentication and integrity protection:\n",
    "- the message $u$ is a sequence of $M$ bits\n",
    "- the key $k$ is a sequence of $K$ bits\n",
    "- the authentication tag $t$ is the binary representation of the integer product $s = s_u s_k$, where $s_u$ and\n",
    "$s_k$ are the sum of the digits in the decimal (base 10) representation of $u$ and $k$, respectively.\n",
    "\n",
    "The tag is transmitted along with the message $u$, and the receiver, which knows $k$, computes the tag\n",
    "from the received message and checks whether it is identical to the received tag. If so, the message is\n",
    "accepted as authentic.\n",
    "Using a programming language of your choice, implement the above scheme, and the corresponding\n",
    "verification so that the complexity of each is polynomial in both $M$ and $K$."
   ]
  },
  {
   "cell_type": "code",
   "execution_count": 2,
   "id": "9e18e63c-1cc3-4fe7-a02e-9fe003066682",
   "metadata": {},
   "outputs": [],
   "source": [
    "def computeDigitSum(x: int):\n",
    "    # computes sum of digits of a given integer x\n",
    "    s = 0\n",
    "    while x > 0:\n",
    "        s += x % 10\n",
    "        x //= 10\n",
    "    return s\n",
    "    \n",
    "def computeTag(u, k):\n",
    "    # computes authentication tag given 2 bit sequences: message u and key k\n",
    "    s_u = computeDigitSum(int(u, 2))\n",
    "    s_k = computeDigitSum(int(k, 2))\n",
    "    #t = bin(s_u*s_k)[2:]\n",
    "    t = f'{s_u*s_k:b}'\n",
    "    return t \n",
    "\n",
    "def authScheme(u, k, verbose=False):\n",
    "    t = computeTag(u, k) # compute tag\n",
    "    x = u+t # append tag to message\n",
    "    \n",
    "    if verbose: # verbose output for debugging\n",
    "        print(f\"Message u: {u}\")\n",
    "        print(f\"Key k: {k}\")\n",
    "        print(f\"Tag t: {t}\")\n",
    "        print(f\"Sending x: {x}\")\n",
    "\n",
    "    return x\n",
    "\n",
    "# length M of message is known\n",
    "def checkReceived(x, k, M, verbose=False):\n",
    "    # checks authenticity based on tag of received bitstring x, \n",
    "    # knowing key k and length of message M\n",
    "    \n",
    "    # split received bitstring into message u and tag t\n",
    "    u = x[:M] # message\n",
    "    t = x[M:] # tag\n",
    "    # compute real tag t from u and key k\n",
    "    t_check = computeTag(u, k)\n",
    "    accept = t == t_check\n",
    "    \n",
    "    if verbose: # verbose output for debugging\n",
    "        print(f\"received tag: {t}\")\n",
    "        print(f\"computed tag: {t_check}\")\n",
    "        if accept:\n",
    "            print(\"Message accepted!\")\n",
    "        else: (\"Message rejected!\")\n",
    "            \n",
    "    return accept"
   ]
  },
  {
   "cell_type": "code",
   "execution_count": 3,
   "id": "66e2e81d-742c-4f85-9677-ba7df2a6dfcb",
   "metadata": {},
   "outputs": [
    {
     "name": "stdout",
     "output_type": "stream",
     "text": [
      "Message u: 00000001\n",
      "Key k: 1111111\n",
      "Tag t: 1010\n",
      "Sending x: 000000011010\n",
      "received tag: 1010\n",
      "computed tag: 1010\n",
      "Message accepted!\n"
     ]
    }
   ],
   "source": [
    "u = '00000001' # message\n",
    "k = '1111111' # key\n",
    "M = len(u) # known length of message bitstring\n",
    "x = authScheme(u, k, verbose=True)\n",
    "accept = checkReceived(x, k, M, verbose=True)"
   ]
  },
  {
   "cell_type": "markdown",
   "id": "d0c7c13d-f6dd-4c62-aa9d-5c5ff7eb2425",
   "metadata": {},
   "source": [
    "Test with random keys/messages:"
   ]
  },
  {
   "cell_type": "code",
   "execution_count": 4,
   "id": "35b3d392-a3f6-4efd-b0f5-12820759755a",
   "metadata": {},
   "outputs": [
    {
     "name": "stdout",
     "output_type": "stream",
     "text": [
      "Correctly accepted: 1000 of 100\n",
      "Incorrectly accepted: 1 of 100\n"
     ]
    }
   ],
   "source": [
    "# check if authentic messages are accepted correctly\n",
    "accepted = 0\n",
    "M = 8\n",
    "K = 8\n",
    "for _ in range(1000):\n",
    "    u = \"\".join(str(random.randint(0, 1)) for i in range(M)) # message\n",
    "    k = \"\".join(str(random.randint(0, 1)) for i in range(K)) # key\n",
    "    x = authScheme(u, k)\n",
    "    accepted += checkReceived(x, k, M)\n",
    "print(f\"Correctly accepted: {accepted} of 100\")\n",
    "\n",
    "# check if random inauthentic messages are rejected\n",
    "T = 4 # fake tag length\n",
    "accepted = 0\n",
    "for _ in range(1000):\n",
    "    x = \"\".join(str(random.randint(0, 1)) for i in range(M+T)) # fake message\n",
    "    k = \"\".join(str(random.randint(0, 1)) for i in range(K)) # key\n",
    "    accepted += checkReceived(x, k, M)\n",
    "print(f\"Incorrectly accepted: {accepted} of 100\")"
   ]
  },
  {
   "cell_type": "code",
   "execution_count": null,
   "id": "d411b98a-55cf-4d53-bfc7-9b1f5aa54778",
   "metadata": {},
   "outputs": [],
   "source": []
  }
 ],
 "metadata": {
  "colab": {
   "provenance": []
  },
  "kernelspec": {
   "display_name": "Python 3 (ipykernel)",
   "language": "python",
   "name": "python3"
  },
  "language_info": {
   "codemirror_mode": {
    "name": "ipython",
    "version": 3
   },
   "file_extension": ".py",
   "mimetype": "text/x-python",
   "name": "python",
   "nbconvert_exporter": "python",
   "pygments_lexer": "ipython3",
   "version": "3.12.4"
  }
 },
 "nbformat": 4,
 "nbformat_minor": 5
}
