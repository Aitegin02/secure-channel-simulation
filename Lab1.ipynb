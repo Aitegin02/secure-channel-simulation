{
 "cells": [
  {
   "cell_type": "markdown",
   "id": "1cde0080-341b-4d4e-aff9-f50ad37b440f",
   "metadata": {
    "id": "1cde0080-341b-4d4e-aff9-f50ad37b440f"
   },
   "source": [
    "# Implementation and linear cryptanalysis of a simplified AES-like cipher\n",
    "Laboratory session 1 of *Information Security*, AY 2024/25"
   ]
  },
  {
   "cell_type": "markdown",
   "id": "401d9b76-214c-4b3b-bea4-54636502207d",
   "metadata": {
    "id": "401d9b76-214c-4b3b-bea4-54636502207d"
   },
   "source": [
    "To Do:\n",
    "- precautions for input shape or type mismatches\n",
    "- proper function documentation"
   ]
  },
  {
   "cell_type": "code",
   "id": "ee4081db-1da6-4f44-9985-f5798f202904",
   "metadata": {
    "id": "ee4081db-1da6-4f44-9985-f5798f202904"
   },
   "source": [
    "# library imports\n",
    "import numpy as np\n",
    "import sympy as sp\n",
    "import ast"
   ],
   "outputs": [],
   "execution_count": null
  },
  {
   "cell_type": "markdown",
   "id": "7c9203b1-ae0a-454a-8403-d1c8daefadc0",
   "metadata": {
    "id": "7c9203b1-ae0a-454a-8403-d1c8daefadc0"
   },
   "source": [
    "## Task 1\n",
    "Using a programming language of your choice, implement the encryptor for a simplified\n",
    "AES-like cipher."
   ]
  },
  {
   "cell_type": "markdown",
   "id": "7d49c841-2342-49ee-b80a-51ad2ad9c4b8",
   "metadata": {
    "id": "7d49c841-2342-49ee-b80a-51ad2ad9c4b8"
   },
   "source": [
    "Soooo let's do helper functions for\n",
    "- subkey generation\n",
    "- substitution S\n",
    "- transposition T\n",
    "- linear transformation L"
   ]
  },
  {
   "cell_type": "code",
   "id": "b7320cad-8219-47a2-9e91-ce52b1efd6b4",
   "metadata": {
    "id": "b7320cad-8219-47a2-9e91-ce52b1efd6b4"
   },
   "source": [
    "def substitution(v):\n",
    "    return (2*v) % 11\n",
    "\n",
    "def transposition(y):\n",
    "    # returns copy of y with 2nd half flipped\n",
    "    # assuming y has an even length\n",
    "    h = len(y)//2 # halfway point\n",
    "    z = np.copy(y)\n",
    "    z[h:]= z[h:][::-1]\n",
    "    return z\n",
    "\n",
    "A = np.array([[2,5],[1,7]])\n",
    "def linear(z):\n",
    "    W = z.reshape((2,4))\n",
    "    w = (A @ W) % 11\n",
    "    return w.flatten()\n",
    "\n",
    "def subkeyGen(K):\n",
    "    K = np.array(K)\n",
    "    idx = np.array([\n",
    "        [0, 2, 4, 6],\n",
    "        [0, 1, 2, 3],\n",
    "        [0, 3, 4, 7],\n",
    "        [0, 3, 5, 6],\n",
    "        [0, 2, 5, 7],\n",
    "        [2, 3, 4, 5]\n",
    "    ])\n",
    "    return K[idx]"
   ],
   "outputs": [],
   "execution_count": null
  },
  {
   "cell_type": "markdown",
   "id": "a6bcb34a-24d7-4dfd-a116-60e5a370575c",
   "metadata": {
    "id": "a6bcb34a-24d7-4dfd-a116-60e5a370575c"
   },
   "source": [
    "Put everything together in an encryptor function:"
   ]
  },
  {
   "cell_type": "code",
   "id": "2805eedd-84f0-429d-ae9e-c5eeee16f645",
   "metadata": {
    "id": "2805eedd-84f0-429d-ae9e-c5eeee16f645"
   },
   "source": [
    "def encryptA(u, k):\n",
    "    # generate subkeys from key k\n",
    "    subkeys = subkeyGen(k)\n",
    "    # first subkey sum\n",
    "    v = (u + np.concatenate((subkeys[0], subkeys[0]))) % 11\n",
    "\n",
    "    for i in range(4):\n",
    "        # S: perform substitution\n",
    "        y = substitution(v)\n",
    "        # T: transpose\n",
    "        z = transposition(y)\n",
    "        # L: linear transform\n",
    "        w = linear(z)\n",
    "        # compute subkey sum\n",
    "        v = (w + np.concatenate((subkeys[i+1], subkeys[i+1])) ) % 11\n",
    "\n",
    "    # last iteration without linear step:\n",
    "    # S: perform substitution\n",
    "    y = substitution(v)\n",
    "    # T: transpose\n",
    "    z = transposition(y)\n",
    "    # subkey sum\n",
    "    v = (z + np.concatenate((subkeys[5], subkeys[5])) ) % 11\n",
    "\n",
    "    return v"
   ],
   "outputs": [],
   "execution_count": null
  },
  {
   "cell_type": "markdown",
   "id": "68bb6cea-b63c-4c75-967b-de46cbcbf08c",
   "metadata": {
    "id": "68bb6cea-b63c-4c75-967b-de46cbcbf08c"
   },
   "source": [
    "Test with given test message & key:"
   ]
  },
  {
   "cell_type": "code",
   "id": "7a4a433b-c872-4fe0-aaf8-54affe1df59c",
   "metadata": {
    "colab": {
     "base_uri": "https://localhost:8080/"
    },
    "id": "7a4a433b-c872-4fe0-aaf8-54affe1df59c",
    "outputId": "6a2be5d0-dda9-4ad4-eeec-183572a459ed"
   },
   "source": [
    "u = np.zeros(8)\n",
    "u[0] = 1\n",
    "k = u.copy()\n",
    "encryptA(u,k)"
   ],
   "outputs": [],
   "execution_count": null
  },
  {
   "cell_type": "markdown",
   "id": "aef691b9-083c-497c-9346-064f9138f87e",
   "metadata": {
    "id": "aef691b9-083c-497c-9346-064f9138f87e"
   },
   "source": [
    "## Task 2\n",
    "Implement the decryptor for this simplified AES-like cipher. Note that decryption is performed by the inverse blocks in reverse order. Therefore, you have to implement the inverse of each function used to encrypt the message (subkey sum, substitution, transposition and linear), taking into consideration that all the operations must be done in the field F = GF(p)."
   ]
  },
  {
   "cell_type": "markdown",
   "id": "d7d1a601-adc1-43ea-a266-962c45f7a001",
   "metadata": {
    "id": "d7d1a601-adc1-43ea-a266-962c45f7a001"
   },
   "source": [
    "The transposition (flipping the 2nd half of the vector) is its own inverse here. For the linear transformation,\n"
   ]
  },
  {
   "cell_type": "code",
   "id": "65fc6410-3045-45c2-8541-b74fabf652bd",
   "metadata": {
    "id": "65fc6410-3045-45c2-8541-b74fabf652bd"
   },
   "source": [
    "def substitutionInv(v):\n",
    "    return 6*v % 11\n",
    "\n",
    "A_inv = np.array([[2, 8],[6, 10]])\n",
    "def linearInv(w):\n",
    "    W = w.reshape((2,4))\n",
    "    z = (A_inv @ W) % 11\n",
    "    return z.flatten()\n",
    "\n",
    "def decryptA(x, k):\n",
    "    # generate subkeys from key k\n",
    "    subkeys = subkeyGen(k)\n",
    "\n",
    "    # subkey diff\n",
    "    z = (x + 11 - np.concatenate((subkeys[5], subkeys[5]))) % 11\n",
    "    # T^-1: inverse transposition\n",
    "    y = transposition(z)\n",
    "    # S^-1: inv. substitution\n",
    "    v = substitutionInv(y)\n",
    "\n",
    "    for i in range(0, 4):\n",
    "        # subkey diff\n",
    "        w = (v + 11 - np.concatenate((subkeys[4-i], subkeys[4-i]))) % 11\n",
    "        # L^-1: inverse linear trafo\n",
    "        z = linearInv(w)\n",
    "        # T^-^: inverse transposition\n",
    "        y = transposition(z)\n",
    "        # S^-1: inv. substitution\n",
    "        v = substitutionInv(y)\n",
    "\n",
    "    # subkey diff\n",
    "    u = (v + 11 - np.concatenate((subkeys[0], subkeys[0]))) % 11\n",
    "\n",
    "    return u"
   ],
   "outputs": [],
   "execution_count": null
  },
  {
   "cell_type": "code",
   "id": "c024ecc5-95d3-409e-a0db-12d025a504be",
   "metadata": {
    "id": "c024ecc5-95d3-409e-a0db-12d025a504be",
    "colab": {
     "base_uri": "https://localhost:8080/"
    },
    "outputId": "508ea4f4-51db-4f30-e252-36e55eea992f"
   },
   "source": [
    "N = 100 # number of test pairs\n",
    "u = np.random.randint(0, 10, size=(N, 8)) # generate random test messages\n",
    "k =  np.random.randint(0, 10, size=(N, 8)) # generate random test keys\n",
    "x = np.array([decryptA(encryptA(u[i], k[i]), k[i]) for i in range(N)]) # encrypt and decrypt the messages\n",
    "print(np.all(u == x)) # check if all decrypted messages match the original ones"
   ],
   "outputs": [],
   "execution_count": null
  },
  {
   "cell_type": "markdown",
   "source": [
    "# Task 3"
   ],
   "metadata": {
    "id": "xzdLWHcGMDN9"
   },
   "id": "xzdLWHcGMDN9"
  },
  {
   "cell_type": "code",
   "source": [
    "p = 11\n",
    "\n",
    "def linear_matrices():\n",
    "    A_l = []\n",
    "    B = []\n",
    "\n",
    "    zero_vector = [0] * 8\n",
    "\n",
    "    for j in range(8):\n",
    "        k = [0] * 8  # k influence\n",
    "        k[j] = 1\n",
    "        x = encryptA(zero_vector, k)\n",
    "        A_l.append(x)\n",
    "\n",
    "    for j in range(8):\n",
    "        u = [0] * 8\n",
    "        u[j] = 1\n",
    "        x = encryptA(u, zero_vector)\n",
    "        B.append(x)\n",
    "\n",
    "    A_l = np.array(A_l).T\n",
    "    B = np.array(B).T\n",
    "\n",
    "    return A_l, B\n",
    "\n",
    "A_l, B = linear_matrices()\n",
    "\n",
    "print(\"A =\")\n",
    "print(A_l)\n",
    "\n",
    "print(\"B =\")\n",
    "print(B)\n",
    "\n",
    "u = np.random.randint(0, 11, 8)\n",
    "k = np.random.randint(0, 11, 8)\n",
    "\n",
    "x1 = encryptA(u, k)\n",
    "x2 = (A_l @ k + B @ u) % p\n",
    "\n",
    "print(\"u:\", u)\n",
    "print(\"k:\", k)\n",
    "print(\"\\nx1 = encryptA(u, k):\")\n",
    "print(x1)\n",
    "print(\"\\nx2 = A @ k + B @ u:\")\n",
    "print(x2.astype(int))\n",
    "\n",
    "print(\"\\n Matches\" if np.all(x1 == x2) else \"No matches\")"
   ],
   "metadata": {
    "colab": {
     "base_uri": "https://localhost:8080/"
    },
    "id": "jcVm5skyMCt-",
    "outputId": "f1a2888e-a538-4917-c1bc-05887872cb8e"
   },
   "id": "jcVm5skyMCt-",
   "outputs": [],
   "execution_count": null
  },
  {
   "cell_type": "markdown",
   "source": [
    "# Task 4\n",
    "\n",
    "Carry out linear cryptanalysis"
   ],
   "metadata": {
    "id": "gzJLFH4wRFKb"
   },
   "id": "gzJLFH4wRFKb"
  },
  {
   "cell_type": "code",
   "source": [
    "def inv_matrix_mod(A_numpy, p):\n",
    "    A_sym = sp.Matrix(A_numpy.tolist())\n",
    "    det = A_sym.det() % p\n",
    "    if sp.gcd(det, p) != 1:\n",
    "        raise ValueError(\"Matrix not invertible\")\n",
    "    A_inv_sym = A_sym.inv_mod(p)\n",
    "    return np.array(A_inv_sym.tolist(), dtype=int)\n",
    "\n",
    "A_l, B = linear_matrices()\n",
    "Ainv2 = inv_matrix_mod(A_l, p)\n",
    "\n",
    "\n",
    "with open(\"KPApairsJ_linear.txt\", \"r\") as file:\n",
    "    lines = file.readlines()\n",
    "\n",
    "for line in lines:\n",
    "    if line.strip() == \"\":\n",
    "        continue\n",
    "\n",
    "u_first, x_first = lines[0].split('\\t')\n",
    "u = np.array(ast.literal_eval(u_first))\n",
    "x = np.array(ast.literal_eval(x_first))\n",
    "\n",
    "Bu = (B @ u) % p\n",
    "x_minus_Bu = (x - Bu) % p\n",
    "k = (Ainv2 @ x_minus_Bu) % p\n",
    "\n",
    "\n",
    "print(\"The recovered key is\")\n",
    "print(k.astype(int).tolist())\n",
    "\n",
    "\n",
    "for idx, line in enumerate(lines):\n",
    "    u_str, x_str = line.split('\\t')\n",
    "    u = np.array(ast.literal_eval(u_str))\n",
    "    x = np.array(ast.literal_eval(x_str))\n",
    "\n",
    "    x_check = (A_l @ k + B @ u) % p\n",
    "\n",
    "    print(f\"\\nThe pair #{idx + 1}\")\n",
    "    print(\"u:\", u.tolist())\n",
    "    print(\"x initial   \", x.tolist())\n",
    "    print(\"x computed:  \", x_check.astype(int).tolist())\n",
    "\n",
    "    if list(x_check.astype(int)) == list(x):\n",
    "        print(\"Matches :)\")\n",
    "    else:\n",
    "        print(\"Doesn't match\")\n"
   ],
   "metadata": {
    "colab": {
     "base_uri": "https://localhost:8080/"
    },
    "id": "GzE6b68zQ0cQ",
    "outputId": "aa5a5704-858a-4b15-f3d3-c2b460488942"
   },
   "id": "GzE6b68zQ0cQ",
   "outputs": [],
   "execution_count": null
  },
  {
   "cell_type": "markdown",
   "source": [
    "# Task 5"
   ],
   "metadata": {
    "id": "uJ0mPeykQ5IP"
   },
   "id": "uJ0mPeykQ5IP"
  },
  {
   "cell_type": "code",
   "id": "3488571e-c994-4925-9a67-b161175a83ba",
   "metadata": {
    "id": "3488571e-c994-4925-9a67-b161175a83ba"
   },
   "source": [
    "s_table = np.array([0, 2, 4, 8, 6, 10, 1, 3, 5, 7, 9])\n",
    "s_table_inv = np.argsort(s_table)\n",
    "\n",
    "def substitutionB(v):\n",
    "    return s_table[v]\n",
    "\n",
    "def substitutionInvB(v):\n",
    "    return s_table_inv[v]\n",
    "\n",
    "def encryptB(u, k):\n",
    "    # generate subkeys from key k\n",
    "    subkeys = subkeyGen(k)\n",
    "    # first subkey sum\n",
    "    v = ((u + np.concatenate((subkeys[0], subkeys[0]))) % 11).astype(int)\n",
    "\n",
    "    for i in range(4):\n",
    "        # S: substitution\n",
    "        y = substitutionB(v)\n",
    "        # T: transpose\n",
    "        z = transposition(y)\n",
    "        # L: linear transform\n",
    "        w = linear(z)\n",
    "        # compute subkey sum\n",
    "        v = ((w + np.concatenate((subkeys[i+1], subkeys[i+1])) ) % 11).astype(int)\n",
    "\n",
    "    # last iteration without linear step:\n",
    "    # S: substitution\n",
    "    y = substitutionB(v)\n",
    "    # T: transpose\n",
    "    z = transposition(y)\n",
    "    # subkey sum\n",
    "    v = ((z + np.concatenate((subkeys[5], subkeys[5])) ) % 11).astype(int)\n",
    "\n",
    "    return v\n",
    "\n",
    "def decryptB(x, k):\n",
    "    # generate subkeys from key k\n",
    "    subkeys = subkeyGen(k)\n",
    "\n",
    "    # subkey diff\n",
    "    z = ((x + 11 - np.concatenate((subkeys[5], subkeys[5]))) % 11).astype(int)\n",
    "    # inv. T\n",
    "    y = transposition(z)\n",
    "    # inv. S\n",
    "    v = substitutionInvB(y)\n",
    "\n",
    "    for i in range(0, 4):\n",
    "        # subkey diff\n",
    "        w = ((v + 11 - np.concatenate((subkeys[4-i], subkeys[4-i]))) % 11).astype(int)\n",
    "        # inv. L\n",
    "        z = linearInv(w)\n",
    "        # inv. T\n",
    "        y = transposition(z)\n",
    "        # inv. S\n",
    "        v = substitutionInvB(y)\n",
    "\n",
    "    # subkey diff\n",
    "    u = ((v + 11 - np.concatenate((subkeys[0], subkeys[0]))) % 11).astype(int)\n",
    "\n",
    "    return u"
   ],
   "outputs": [],
   "execution_count": null
  },
  {
   "cell_type": "markdown",
   "id": "9b64eafa-f0d6-4b8d-a313-94131a9f4a51",
   "metadata": {
    "id": "9b64eafa-f0d6-4b8d-a313-94131a9f4a51"
   },
   "source": [
    "Test encryption with given message & key:"
   ]
  },
  {
   "cell_type": "code",
   "id": "afdd69d9-0390-48af-89c4-508df90246dc",
   "metadata": {
    "colab": {
     "base_uri": "https://localhost:8080/"
    },
    "id": "afdd69d9-0390-48af-89c4-508df90246dc",
    "outputId": "149a7792-5adb-4d90-d02f-9551359c7646"
   },
   "source": [
    "u = np.zeros(8)\n",
    "u[0] = 1\n",
    "k = u.copy()\n",
    "encryptB(u,k)"
   ],
   "outputs": [],
   "execution_count": null
  },
  {
   "cell_type": "markdown",
   "id": "43a62308-618a-4771-894c-7e9ca691dbcd",
   "metadata": {
    "id": "43a62308-618a-4771-894c-7e9ca691dbcd"
   },
   "source": [
    "Test decryption:"
   ]
  },
  {
   "cell_type": "code",
   "id": "920b3c9c-3df9-4415-a74e-f6a6e363e335",
   "metadata": {
    "colab": {
     "base_uri": "https://localhost:8080/"
    },
    "id": "920b3c9c-3df9-4415-a74e-f6a6e363e335",
    "outputId": "979d22fd-041b-487d-b3f8-437a5c2d9649"
   },
   "source": [
    "N = 100 # number of test pairs\n",
    "u = np.random.randint(0, 10, size=(N, 8)) # generate random test messages\n",
    "k =  np.random.randint(0, 10, size=(N, 8)) # generate random test keys\n",
    "x = np.array([decryptB(encryptB(u[i], k[i]), k[i]) for i in range(N)]) # encrypt and decrypt the messages\n",
    "print(np.all(u == x)) # check if all decrypted messages match the original ones"
   ],
   "outputs": [],
   "execution_count": null
  },
  {
   "cell_type": "markdown",
   "id": "2442b6b2-885a-4d02-8751-a48d288d411a",
   "metadata": {
    "id": "2442b6b2-885a-4d02-8751-a48d288d411a"
   },
   "source": [
    "## Task 7\n",
    "implement the encryptor for a simplified AES-like cipher with the following parameters .."
   ]
  },
  {
   "cell_type": "code",
   "id": "5b20c77e-e0c6-49da-9427-d57992e0ff33",
   "metadata": {
    "id": "5b20c77e-e0c6-49da-9427-d57992e0ff33"
   },
   "source": [
    "def subkeyGenC(K):\n",
    "    idx = np.array([\n",
    "        [0, 1, 2, 3],\n",
    "        [0, 1, 3, 2],\n",
    "        [1, 2, 3, 0],\n",
    "        [0, 3, 1, 2],\n",
    "        [2, 3, 0, 1],\n",
    "        [1, 3, 0, 2]\n",
    "    ])\n",
    "    return K[idx]\n",
    "\n",
    "# modular multiplicative inverse table for GF(11)\n",
    "# for v[j] = 0, we set v[j]^-1 to 0\n",
    "inv_table = np.array([0, 1, 6, 4, 3, 9, 2, 8, 7, 5, 10])\n",
    "def substitutionC(v):\n",
    "    return 2*inv_table[v] % 11\n",
    "\n",
    "def substitutionInvC(y):\n",
    "    return inv_table[(6*y) % 11]\n",
    "\n",
    "def encryptC(u, k):\n",
    "    # generate subkeys from key k\n",
    "    subkeys = subkeyGenC(k)\n",
    "    # first subkey sum\n",
    "    v = ((u + np.concatenate((subkeys[0], subkeys[0]))) % 11).astype(int)\n",
    "\n",
    "    for i in range(4):\n",
    "        # S: substitution\n",
    "        y = substitutionC(v)\n",
    "        # T: transpose\n",
    "        z = transposition(y)\n",
    "        # L: linear transform\n",
    "        w = linear(z)\n",
    "        # compute subkey sum\n",
    "        v = ((w + np.concatenate((subkeys[i+1], subkeys[i+1])) ) % 11).astype(int)\n",
    "\n",
    "    # last iteration without linear step:\n",
    "    # S: substitution\n",
    "    y = substitutionC(v)\n",
    "    # T: transpose\n",
    "    z = transposition(y)\n",
    "    # subkey sum\n",
    "    v = ((z + np.concatenate((subkeys[5], subkeys[5])) ) % 11).astype(int)\n",
    "\n",
    "    return v\n",
    "\n",
    "def decryptC(x, k):\n",
    "    # generate subkeys from key k\n",
    "    subkeys = subkeyGenC(k)\n",
    "\n",
    "    # subkey diff\n",
    "    z = ((x + 11 - np.concatenate((subkeys[5], subkeys[5]))) % 11).astype(int)\n",
    "    # inv. T\n",
    "    y = transposition(z)\n",
    "    # inv. S\n",
    "    v = substitutionInvC(y)\n",
    "\n",
    "    for i in range(0, 4):\n",
    "        # subkey diff\n",
    "        w = ((v + 11 - np.concatenate((subkeys[4-i], subkeys[4-i]))) % 11).astype(int)\n",
    "        # inv. L\n",
    "        z = linearInv(w)\n",
    "        # inv. T\n",
    "        y = transposition(z)\n",
    "        # inv. S\n",
    "        v = substitutionInvC(y)\n",
    "\n",
    "    # subkey diff\n",
    "    u = ((v + 11 - np.concatenate((subkeys[0], subkeys[0]))) % 11).astype(int)\n",
    "\n",
    "    return u"
   ],
   "outputs": [],
   "execution_count": null
  },
  {
   "cell_type": "code",
   "id": "42b69155-9351-4c44-96e4-9a24f4dc2579",
   "metadata": {
    "colab": {
     "base_uri": "https://localhost:8080/"
    },
    "id": "42b69155-9351-4c44-96e4-9a24f4dc2579",
    "outputId": "d5772a65-bc29-49d9-adbf-ea8a63245235"
   },
   "source": [
    "u = np.zeros(8)\n",
    "u[0] = 1\n",
    "k = u.copy()\n",
    "encryptC(u,k)"
   ],
   "outputs": [],
   "execution_count": null
  },
  {
   "cell_type": "code",
   "id": "e77b832b-9157-4946-8bb4-83d1f85bd3b6",
   "metadata": {
    "colab": {
     "base_uri": "https://localhost:8080/"
    },
    "id": "e77b832b-9157-4946-8bb4-83d1f85bd3b6",
    "outputId": "10dbaec6-9c4f-4fd5-a7bb-e61c5a415476"
   },
   "source": [
    "N = 100 # number of test pairs\n",
    "u = np.random.randint(0, 10, size=(N, 8)) # generate random test messages\n",
    "k =  np.random.randint(0, 10, size=(N, 8)) # generate random test keys\n",
    "x = np.array([decryptC(encryptC(u[i], k[i]), k[i]) for i in range(N)]) # encrypt and decrypt the messages\n",
    "print(np.all(u == x)) # check if all decrypted messages match the original ones"
   ],
   "outputs": [],
   "execution_count": null
  },
  {
   "metadata": {
    "id": "b087dc694ec0ad85"
   },
   "cell_type": "markdown",
   "source": [
    "# Task 8"
   ],
   "id": "b087dc694ec0ad85"
  },
  {
   "metadata": {
    "id": "9cb055ba0f6e0c4a"
   },
   "cell_type": "code",
   "source": [
    "def key_gen():\n",
    "    return np.random.randint(0, 11, 4)\n",
    "\n",
    "def meet_in_the_middle(encrypt_fn, decrypt_fn, P_list, C_list, key_samples=80000):\n",
    "    print(\"Generating random key candidates...\")\n",
    "\n",
    "    # Generate unique random keys for K1 and K2\n",
    "    keys1 = np.unique([key_gen() for _ in range(key_samples)], axis=0).tolist()\n",
    "    keys2 = np.unique([key_gen() for _ in range(key_samples)], axis=0).tolist()\n",
    "\n",
    "    print(f\"Keys1: {len(keys1)}, Keys2: {len(keys2)}\")\n",
    "\n",
    "    print(\"\\n→ Computing encryptions of all plaintexts with each k1...\")\n",
    "    enc_map = {}\n",
    "    for i, k1 in enumerate(keys1):\n",
    "        all_outputs = []\n",
    "        for P in P_list:\n",
    "            out = encrypt_fn(np.array(P), np.pad(k1, (0, 4), constant_values=0))\n",
    "            all_outputs.append(tuple(out.tolist()))\n",
    "        enc_map[tuple(all_outputs)] = k1\n",
    "\n",
    "    print(\"\\n← Computing decryptions of all ciphertexts with each k2 and matching...\")\n",
    "    for j, k2 in enumerate(keys2):\n",
    "        all_outputs = []\n",
    "        for C in C_list:\n",
    "            out = decrypt_fn(np.array(C), np.pad(k2, (0, 4), constant_values=0))\n",
    "            all_outputs.append(tuple(out.tolist()))\n",
    "\n",
    "        key = tuple(all_outputs)\n",
    "        if key in enc_map:\n",
    "            k1 = enc_map[key]\n",
    "            print(\"\\nFound matching key pair!\")\n",
    "            print(\"k1:\", k1)\n",
    "            print(\"k2:\", k2)\n",
    "            return k1, k2\n",
    "\n",
    "    print(\"No match found.\")\n",
    "    return None, None"
   ],
   "id": "9cb055ba0f6e0c4a",
   "outputs": [],
   "execution_count": null
  },
  {
   "metadata": {
    "colab": {
     "base_uri": "https://localhost:8080/"
    },
    "id": "9a443182ed7b86f5",
    "outputId": "77fbd08c-7466-4244-a6d4-290f85edc87d"
   },
   "cell_type": "code",
   "source": [
    "plaintexts = [\n",
    "    [4, 1, 6, 10, 2, 3, 5, 10],\n",
    "    [10, 5, 4, 4, 7, 3, 2, 0],\n",
    "    [2, 6, 8, 0, 6, 8, 10, 9],\n",
    "    [3, 7, 2, 10, 1, 6, 9, 0],\n",
    "    [5, 1, 6, 3, 10, 8, 8, 10],\n",
    "]\n",
    "\n",
    "ciphertexts = [\n",
    "    [2, 1, 4, 0, 6, 7, 5, 5],\n",
    "    [2, 8, 6, 2, 6, 2, 10, 0],\n",
    "    [5, 5, 1, 4, 10, 2, 9, 2],\n",
    "    [3, 8, 10, 10, 10, 9, 7, 8],\n",
    "    [10, 0, 8, 10, 2, 10, 2, 2],\n",
    "]\n",
    "\n",
    "k1, k2 = meet_in_the_middle(encryptC, decryptC, plaintexts, ciphertexts, key_samples=80000)"
   ],
   "id": "9a443182ed7b86f5",
   "outputs": [],
   "execution_count": null
  }
 ],
 "metadata": {
  "kernelspec": {
   "display_name": "Python 3 (ipykernel)",
   "language": "python",
   "name": "python3"
  },
  "language_info": {
   "codemirror_mode": {
    "name": "ipython",
    "version": 3
   },
   "file_extension": ".py",
   "mimetype": "text/x-python",
   "name": "python",
   "nbconvert_exporter": "python",
   "pygments_lexer": "ipython3",
   "version": "3.12.4"
  },
  "colab": {
   "provenance": []
  }
 },
 "nbformat": 4,
 "nbformat_minor": 5
}
