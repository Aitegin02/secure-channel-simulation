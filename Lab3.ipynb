{
 "cells": [
  {
   "cell_type": "markdown",
   "id": "09c5ed12-ae6d-48d2-abcf-f37b91b5b8e3",
   "metadata": {},
   "source": [
    "# Lab 3: Message authentication and Integrity protection\n",
    "Laboratory session 3 of *Information Security*, AY 2024/25. In this notebook, we implement an authentication scheme and evaluate its weakness through a substitution and a forging attack.\n"
   ]
  },
  {
   "cell_type": "code",
   "execution_count": 1,
   "id": "56de42660f265c20",
   "metadata": {
    "ExecuteTime": {
     "end_time": "2025-04-22T07:52:57.160437Z",
     "start_time": "2025-04-22T07:52:54.726893Z"
    },
    "id": "56de42660f265c20"
   },
   "outputs": [],
   "source": [
    "# library imports\n",
    "import numpy as np\n",
    "import matplotlib.pyplot as plt\n",
    "import random"
   ]
  },
  {
   "cell_type": "markdown",
   "id": "e98747d3-77c6-48b0-8cf3-a00b7303838a",
   "metadata": {},
   "source": [
    "## Task 1: Authentication scheme\n",
    "Consider the following symmetric scheme for message authentication and integrity protection:\n",
    "- the message $u$ is a sequence of $M$ bits\n",
    "- the key $k$ is a sequence of $K$ bits\n",
    "- the authentication tag $t$ is the binary representation of the integer product $s = s_u s_k$, where $s_u$ and\n",
    "$s_k$ are the sum of the digits in the decimal (base 10) representation of $u$ and $k$, respectively.\n",
    "\n",
    "The tag is transmitted along with the message $u$, and the receiver, which knows $k$, computes the tag\n",
    "from the received message and checks whether it is identical to the received tag. If so, the message is\n",
    "accepted as authentic.\n",
    "Using a programming language of your choice, implement the above scheme, and the corresponding\n",
    "verification so that the complexity of each is polynomial in both $M$ and $K$."
   ]
  },
  {
   "cell_type": "code",
   "execution_count": 2,
   "id": "9e18e63c-1cc3-4fe7-a02e-9fe003066682",
   "metadata": {},
   "outputs": [],
   "source": [
    "def computeDigitSum(x: int):\n",
    "    # computes sum of digits of a given integer x\n",
    "    s = 0\n",
    "    while x > 0:\n",
    "        s += x % 10\n",
    "        x //= 10\n",
    "    return s\n",
    "    \n",
    "def computeTag(u, k):\n",
    "    # computes authentication tag given 2 bit sequences: message u and key k\n",
    "    s_u = computeDigitSum(int(u, 2))\n",
    "    s_k = computeDigitSum(int(k, 2))\n",
    "    #t = bin(s_u*s_k)[2:]\n",
    "    t = f'{s_u*s_k:b}'\n",
    "    return t \n",
    "\n",
    "def authScheme(u, k, verbose=False):\n",
    "    t = computeTag(u, k) # compute tag\n",
    "    x = u+t # append tag to message\n",
    "    \n",
    "    if verbose: # verbose output for debugging\n",
    "        print(f\"Message u: {u}\")\n",
    "        print(f\"Key k: {k}\")\n",
    "        print(f\"Tag t: {t}\")\n",
    "        print(f\"Sending x: {x}\")\n",
    "\n",
    "    return x\n",
    "\n",
    "# length M of message is known\n",
    "def checkReceived(x, k, M, verbose=False):\n",
    "    # checks authenticity based on tag of received bitstring x, \n",
    "    # knowing key k and length of message M\n",
    "    \n",
    "    # split received bitstring into message u and tag t\n",
    "    u = x[:M] # message\n",
    "    t = x[M:] # tag\n",
    "    # compute real tag t from u and key k\n",
    "    t_check = computeTag(u, k)\n",
    "    accept = t == t_check\n",
    "    \n",
    "    if verbose: # verbose output for debugging\n",
    "        print(f\"received tag: {t}\")\n",
    "        print(f\"computed tag: {t_check}\")\n",
    "        if accept:\n",
    "            print(\"Message accepted!\")\n",
    "        else: (\"Message rejected!\")\n",
    "            \n",
    "    return accept"
   ]
  },
  {
   "cell_type": "code",
   "execution_count": 3,
   "id": "66e2e81d-742c-4f85-9677-ba7df2a6dfcb",
   "metadata": {},
   "outputs": [
    {
     "name": "stdout",
     "output_type": "stream",
     "text": [
      "Message u: 00000001\n",
      "Key k: 1111111\n",
      "Tag t: 1010\n",
      "Sending x: 000000011010\n",
      "received tag: 1010\n",
      "computed tag: 1010\n",
      "Message accepted!\n"
     ]
    }
   ],
   "source": [
    "u = '00000001' # message\n",
    "k = '1111111' # key\n",
    "M = len(u) # known length of message bitstring\n",
    "x = authScheme(u, k, verbose=True)\n",
    "accept = checkReceived(x, k, M, verbose=True)"
   ]
  },
  {
   "cell_type": "markdown",
   "id": "d0c7c13d-f6dd-4c62-aa9d-5c5ff7eb2425",
   "metadata": {},
   "source": [
    "Test with random keys/messages:"
   ]
  },
  {
   "cell_type": "code",
   "execution_count": 4,
   "id": "35b3d392-a3f6-4efd-b0f5-12820759755a",
   "metadata": {},
   "outputs": [
    {
     "name": "stdout",
     "output_type": "stream",
     "text": [
      "Correctly accepted: 1000 of 1000\n",
      "Incorrectly accepted: 4 of 1000\n"
     ]
    }
   ],
   "source": [
    "# check if authentic messages are accepted correctly\n",
    "accepted = 0\n",
    "M = 8\n",
    "K = 8\n",
    "N= 1000\n",
    "for _ in range(N):\n",
    "    u = \"\".join(str(random.randint(0, 1)) for i in range(M)) # message\n",
    "    k = \"\".join(str(random.randint(0, 1)) for i in range(K)) # key\n",
    "    x = authScheme(u, k)\n",
    "    accepted += checkReceived(x, k, M)\n",
    "print(f\"Correctly accepted: {accepted} of {N}\")\n",
    "\n",
    "# check if random inauthentic messages are rejected\n",
    "T = 4 # fake tag length\n",
    "accepted = 0\n",
    "for _ in range(N):\n",
    "    x = \"\".join(str(random.randint(0, 1)) for i in range(M+T)) # fake message\n",
    "    k = \"\".join(str(random.randint(0, 1)) for i in range(K)) # key\n",
    "    accepted += checkReceived(x, k, M)\n",
    "print(f\"Incorrectly accepted: {accepted} of {N}\")"
   ]
  },
  {
   "cell_type": "markdown",
   "id": "214d6810-0cf3-4aa2-a89a-8b874cf954d9",
   "metadata": {},
   "source": [
    "To Do: verify that implementation is polynomial in $M$ and $K$.\n",
    "- Tag computation: $\\mathcal{O}(M+K)$ ?"
   ]
  },
  {
   "cell_type": "markdown",
   "id": "ce9a9075-bf7e-434b-afa0-39a0f103dcd9",
   "metadata": {},
   "source": [
    "## Task 2: Substitution attack\n",
    "Your aim is to evaluate the weakness of the naive symmetric scheme for message authentication and\n",
    "integrity protection, implemented in Task 1.\n",
    "- design and implement a substitution attack to the above scheme that, without knowing the key $k$,\n",
    "and after blocking and observing a legitimate message/tag pair $x = (u, t)$ sent by A, replaces it\n",
    "with a different pair $\\tilde{x} = (\\tilde{u}, \\tilde{t})$ so that $\\tilde{u}$ is accepted by B as authentic;\n",
    "- evaluate the computational complexity for this attack.\n",
    "\n",
    "What is the success probability of your attack strategy?"
   ]
  },
  {
   "cell_type": "markdown",
   "id": "cbc108a2-fcd0-4836-95ab-c39aa675448b",
   "metadata": {},
   "source": [
    "Kerchoff-like assumption: Since we as Forger know the tag map $T(u, k) = (s_u \\cdot s_k)_2$, we can extract the tag from the blocked pair $(u, t)$ , compute $s_u$ and simply divide $t_{10}/s_u$ to compute the key digit sum $s_k$."
   ]
  },
  {
   "cell_type": "code",
   "execution_count": 5,
   "id": "9cfa7d57-006d-4b1e-861c-023816f9ae64",
   "metadata": {},
   "outputs": [],
   "source": [
    "def substitutionAttack(x, M, K, u_sub, verbose=False):\n",
    "    # given intercepted output x (and known message length M, key length K)\n",
    "    # computes a different output x_sub with the substituted message u_sub\n",
    "    # and returns it\n",
    "\n",
    "    # split x into message u and tag t\n",
    "    u = x[:M]\n",
    "    t = x[M:]\n",
    "\n",
    "    # compute message digit sum s_u\n",
    "    s_u = computeDigitSum(int(u, 2))\n",
    "    # compute key digit sum from tag\n",
    "    if s_u != 0:\n",
    "        s_k = int(t, 2) // s_u\n",
    "    else: # if s_u is 0 we can't get the key :(\n",
    "        print(\"s_u = 0, can't determine key digit sum :(\")\n",
    "        s_k = computeDigitSum(random.randint(0, 2**K-1)) # uniformly random guess\n",
    "\n",
    "    # compute new tag for substitution message\n",
    "    t_sub = f\"{computeDigitSum(int(u_sub, 2))*s_k:b}\"\n",
    "    x_sub = u_sub + t_sub\n",
    "\n",
    "    if verbose: # verbose output for debugging\n",
    "        print(f\"input pair x=({u}, {t})\")\n",
    "        print(f\"key digit sum s_k: {s_k}\")\n",
    "        print(f\"substituted pair x_sub=({u_sub}, {t_sub})\")\n",
    "        \n",
    "    return x_sub    "
   ]
  },
  {
   "cell_type": "code",
   "execution_count": 6,
   "id": "029fde66-88db-4d13-917f-afc1dd8a43dc",
   "metadata": {},
   "outputs": [
    {
     "name": "stdout",
     "output_type": "stream",
     "text": [
      "Message u: 00000001\n",
      "Key k: 1111111\n",
      "Tag t: 1010\n",
      "Sending x: 000000011010\n",
      "input pair x=(00000001, 1010)\n",
      "key digit sum s_k: 10\n",
      "substituted pair x_sub=(10000000, 1101110)\n",
      "received tag: 1101110\n",
      "computed tag: 1101110\n",
      "Message accepted!\n"
     ]
    }
   ],
   "source": [
    "# test with examples\n",
    "u = '00000001' # message\n",
    "k = '1111111' # key\n",
    "M = len(u) # known length of message bitstring\n",
    "K = len(k)\n",
    "x = authScheme(u, k, verbose=True) \n",
    "u_sub = '10000000'\n",
    "x_sub = substitutionAttack(x, M, K, u_sub, verbose=True)\n",
    "accept = checkReceived(x_sub, k, M, verbose=True)"
   ]
  },
  {
   "cell_type": "code",
   "execution_count": 7,
   "id": "4c741a0b-b64b-455b-a26d-cec23cb631cb",
   "metadata": {},
   "outputs": [
    {
     "name": "stdout",
     "output_type": "stream",
     "text": [
      "Substitution accepted: 1000 of 1000\n"
     ]
    }
   ],
   "source": [
    "# test with random examples\n",
    "accepted = 0\n",
    "M = 8\n",
    "K = 8\n",
    "N = 1000\n",
    "for _ in range(N):\n",
    "    u = \"\".join(str(random.randint(0, 1)) for i in range(M)) # message\n",
    "    k = \"\".join(str(random.randint(0, 1)) for i in range(K)) # key\n",
    "    u_sub = \"\".join(str(random.randint(0, 1)) for i in range(M)) # substitution\n",
    "    x = authScheme(u, k)\n",
    "    x_sub = substitutionAttack(x, M, K, u_sub)\n",
    "    accepted += checkReceived(x_sub, k, M)\n",
    "print(f\"Substitution accepted: {accepted} of {N}\")"
   ]
  }
 ],
 "metadata": {
  "colab": {
   "provenance": []
  },
  "kernelspec": {
   "display_name": "Python 3 (ipykernel)",
   "language": "python",
   "name": "python3"
  },
  "language_info": {
   "codemirror_mode": {
    "name": "ipython",
    "version": 3
   },
   "file_extension": ".py",
   "mimetype": "text/x-python",
   "name": "python",
   "nbconvert_exporter": "python",
   "pygments_lexer": "ipython3",
   "version": "3.12.4"
  }
 },
 "nbformat": 4,
 "nbformat_minor": 5
}
