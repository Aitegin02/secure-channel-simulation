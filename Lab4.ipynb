{
 "cells": [
  {
   "metadata": {},
   "cell_type": "markdown",
   "source": [
    "# Lab 4: Information theoretic key agreement\n",
    "Laboratory session 4 of *Information Security*, AY 2024/25, team *pwnthemole3*."
   ],
   "id": "4d6a4ecc87bf278d"
  },
  {
   "metadata": {
    "ExecuteTime": {
     "end_time": "2025-05-28T19:19:25.259188Z",
     "start_time": "2025-05-28T19:19:25.243324Z"
    }
   },
   "cell_type": "code",
   "source": [
    "import random\n",
    "from collections import Counter\n",
    "import matplotlib.pyplot as plt\n",
    "import numpy as np"
   ],
   "id": "3458d3e120c172c9",
   "outputs": [],
   "execution_count": 19
  },
  {
   "metadata": {},
   "cell_type": "markdown",
   "source": "# Preparation: Channel and Encoder/Decoder Setup",
   "id": "df7a7df8170126d7"
  },
  {
   "metadata": {
    "ExecuteTime": {
     "end_time": "2025-05-28T19:19:29.788146Z",
     "start_time": "2025-05-28T19:19:29.758055Z"
    }
   },
   "cell_type": "code",
   "source": [
    "# --- Hamming Code ---\n",
    "# Hamming (7,4) codewords\n",
    "Hamming_words = [\n",
    "    '0000000', '1000110', '0100101', '0010011',\n",
    "    '0001111', '1100011', '1010101', '1001001',\n",
    "    '0110110', '0101010', '0011100', '1110000',\n",
    "    '1101100', '1011010', '0111001', '1111111'\n",
    "]\n",
    "\n",
    "# Hamming distance between two binary strings\n",
    "def hamming_distance(a, b):\n",
    "    return sum(x != y for x, y in zip(a, b))\n",
    "\n",
    "\n",
    "# Bitwise complement of a binary string\n",
    "def bitwise_complement(word):\n",
    "    return ''.join('1' if b == '0' else '0' for b in word)\n",
    "\n",
    "# Generate all 3-bit messages\n",
    "def generate_messages():\n",
    "    return [format(i, '03b') for i in range(8)]\n",
    "\n",
    "# Generate all 7-bit binary strings (used for Task 1)\n",
    "def generate_all_7bit_words():\n",
    "    return [format(i, '07b') for i in range(128)]\n",
    "\n",
    "# --- Encoder --- for task 2\n",
    "# Get bin: codeword with prefix 0+u and its complement\n",
    "def get_bin(u):\n",
    "    prefix = '0' + u\n",
    "    for word in Hamming_words:\n",
    "        if word.startswith(prefix):\n",
    "            return [word, bitwise_complement(word)]\n",
    "    return []\n",
    "\n",
    "# Random binning encoder\n",
    "def random_binning_encoder(u):\n",
    "    return random.choice(get_bin(u))\n",
    "\n",
    "# --- Channels ---\n",
    "# Eavesdropper channel (flips up to 3 bits)\n",
    "def eavesdropper_channel(x):\n",
    "    x = list(x)\n",
    "    for i in random.sample(range(7), random.randint(0, 3)):\n",
    "        x[i] = '1' if x[i] == '0' else '0'\n",
    "    return ''.join(x)\n",
    "\n",
    "# Legitimate channel (flips 1 bit)\n",
    "def legitimate_channel(x):\n",
    "    x = list(x)\n",
    "    i = random.randint(0, 6)\n",
    "    x[i] = '1' if x[i] == '0' else '0'\n",
    "    return ''.join(x)\n",
    "\n",
    "# --- Decoder --- for task 3\n",
    "# Decoder function\n",
    "def decode(y):\n",
    "    closest = min(Hamming_words, key=lambda w: hamming_distance(y, w))\n",
    "    if closest[0] == '0':\n",
    "        return closest[1:4]\n",
    "    else:\n",
    "        return bitwise_complement(closest[1:4])"
   ],
   "id": "65362bc3d9f8e84f",
   "outputs": [],
   "execution_count": 20
  },
  {
   "metadata": {},
   "cell_type": "markdown",
   "source": [
    "# Task 1\n",
    "\n",
    "Simulate Uniform Error Wiretap Channel"
   ],
   "id": "1e5287cd500b81a1"
  },
  {
   "metadata": {
    "ExecuteTime": {
     "end_time": "2025-05-28T19:19:32.337836Z",
     "start_time": "2025-05-28T19:19:31.262189Z"
    }
   },
   "cell_type": "code",
   "source": [
    "def task1(x='1001000', trials=100000):\n",
    "    print(\"\\Simulate Uniform Error Wiretap Channel\")\n",
    "    y_samples = []\n",
    "    z_samples = []\n",
    "\n",
    "    # Generate sets of outputs within allowed Hamming distances\n",
    "    def Ty_given_x(a):\n",
    "        return [b for b in generate_all_7bit_words() if hamming_distance(a, b) <= 1]\n",
    "\n",
    "    def Tz_given_x(a):\n",
    "        return [c for c in generate_all_7bit_words() if hamming_distance(a, c) <= 3]\n",
    "\n",
    "    Ty = Ty_given_x(x)\n",
    "    Tz = Tz_given_x(x)\n",
    "\n",
    "    # Sample from conditional distributions\n",
    "    for _ in range(trials):\n",
    "        y = random.choice(Ty)\n",
    "        z = random.choice(Tz)\n",
    "        y_samples.append(y)\n",
    "        z_samples.append(z)\n",
    "\n",
    "    # Empirical mutual information I(Y;Z|X)\n",
    "    joint_counts = Counter(zip(y_samples, z_samples))\n",
    "    y_counts = Counter(y_samples)\n",
    "    z_counts = Counter(z_samples)\n",
    "\n",
    "    mi = 0.0\n",
    "    for (y, z), count in joint_counts.items():\n",
    "        p_yz = count / trials\n",
    "        p_y = y_counts[y] / trials\n",
    "        p_z = z_counts[z] / trials\n",
    "        mi += p_yz * np.log2(p_yz / (p_y * p_z))\n",
    "\n",
    "    print(f\"Estimated mutual information I(Y; Z | X = {x}) = {mi:.6f} bits\")\n",
    "\n",
    "    # Plot distribution\n",
    "    def plot_bar(counter, label):\n",
    "        probs = {k: v / trials for k, v in counter.items()}\n",
    "        plt.figure(figsize=(10, 3))\n",
    "        plt.bar(range(len(probs)), list(probs.values()))\n",
    "        plt.title(f\"Empirical Distribution of {label}\")\n",
    "        plt.xlabel(label)\n",
    "        plt.ylabel(\"Probability\")\n",
    "        plt.xticks(range(len(probs)), list(probs.keys()), rotation=90)\n",
    "        plt.tight_layout()\n",
    "        plt.show()\n",
    "\n",
    "    plot_bar(y_counts, \"Y\")\n",
    "    plot_bar(z_counts, \"Z\")\n",
    "\n",
    "    # Print std dev of output probabilities to check uniformity\n",
    "    y_probs = np.array([v / trials for v in y_counts.values()])\n",
    "    z_probs = np.array([v / trials for v in z_counts.values()])\n",
    "\n",
    "    print(f\"Std dev of P(Y|X): {np.std(y_probs):.6f}\")\n",
    "    print(f\"Std dev of P(Z|X): {np.std(z_probs):.6f}\")\n",
    "\n",
    "    # Check how close mutual information is to 0\n",
    "    if mi < 0.01:\n",
    "        print(\"Y and Z appear conditionally independent given X.\")\n",
    "    else:\n",
    "        print(\"Y and Z may not be conditionally independent.\")\n",
    "\n",
    "\n",
    "task1()"
   ],
   "id": "af281557423559e9",
   "outputs": [
    {
     "name": "stdout",
     "output_type": "stream",
     "text": [
      "\\Simulate Uniform Error Wiretap Channel\n",
      "Estimated mutual information I(Y; Z | X = 1001000) = 0.003133 bits\n"
     ]
    },
    {
     "data": {
      "text/plain": [
       "<Figure size 1000x300 with 1 Axes>"
      ],
      "image/png": "[encoded data removed]"
     },
     "metadata": {},
     "output_type": "display_data"
    },
    {
     "data": {
      "text/plain": [
       "<Figure size 1000x300 with 1 Axes>"
      ],
      "image/png": "[encoded data removed]"
     },
     "metadata": {},
     "output_type": "display_data"
    },
    {
     "name": "stdout",
     "output_type": "stream",
     "text": [
      "Std dev of P(Y|X): 0.001351\n",
      "Std dev of P(Z|X): 0.000415\n",
      "Y and Z appear conditionally independent given X.\n"
     ]
    }
   ],
   "execution_count": 21
  },
  {
   "metadata": {
    "ExecuteTime": {
     "end_time": "2025-05-28T19:50:47.331298Z",
     "start_time": "2025-05-28T19:50:47.322777Z"
    }
   },
   "cell_type": "code",
   "source": [
    "# Parity‐check matrix H for the (7,4) Hamming code\n",
    "H = np.array([\n",
    "    [1, 0, 0, 0, 1, 1, 1],\n",
    "    [0, 1, 0, 1, 0, 1, 1],\n",
    "    [0, 0, 1, 1, 1, 0, 1]\n",
    "])\n",
    "\n",
    "def compute_syndrome(word: np.ndarray) -> np.ndarray:\n",
    "    \"\"\"\n",
    "    Compute the 3‐bit syndrome H⋅word over GF(2).\n",
    "    \"\"\"\n",
    "    return (H @ word) % 2\n",
    "\n",
    "def correct_forward(received: np.ndarray, syndrome_alice: np.ndarray) -> np.ndarray:\n",
    "    \"\"\"\n",
    "    Given a 7‐bit 'received' word and Alice's syndrome, recover the original codeword\n",
    "    by locating the single‐bit error via the syndrome difference.\n",
    "    \"\"\"\n",
    "    # Bob/Eve compute their own syndrome\n",
    "    syn_recv = compute_syndrome(received)\n",
    "    # The difference (in GF(2)) is the syndrome of the error vector\n",
    "    err_synd = (syn_recv ^ syndrome_alice) % 2\n",
    "\n",
    "    # If zero, no error\n",
    "    if np.all(err_synd == 0):\n",
    "        return received.copy()\n",
    "\n",
    "    # Otherwise find which column of H matches that syndrome\n",
    "    for j in range(H.shape[1]):\n",
    "        if np.array_equal(H[:, j], err_synd):\n",
    "            corrected = received.copy()\n",
    "            corrected[j] ^= 1\n",
    "            return corrected\n",
    "\n",
    "    # Should never happen if at most one error\n",
    "    raise ValueError(\"Unrecoverable error pattern\")\n"
   ],
   "id": "f1b8034ab17bfbe1",
   "outputs": [],
   "execution_count": 47
  },
  {
   "metadata": {},
   "cell_type": "markdown",
   "source": [
    "# Task 2\n",
    "\n",
    "Forward Reconciliation"
   ],
   "id": "67d2c8d5e52631da"
  },
  {
   "metadata": {
    "ExecuteTime": {
     "end_time": "2025-05-28T19:50:49.994381Z",
     "start_time": "2025-05-28T19:50:49.979222Z"
    }
   },
   "cell_type": "code",
   "source": [
    "# 1) Pick an arbitrary 7-bit codeword x\n",
    "x = np.array([1, 0, 0, 1, 0, 0, 0])\n",
    "\n",
    "# 2) Simulate Bob’s and Eve’s channels: at most one bit flip\n",
    "def flip_one(bitstring, pos):\n",
    "    out = bitstring.copy()\n",
    "    out[pos] ^= 1\n",
    "    return out\n",
    "\n",
    "# Test *all* single‐bit errors (and the no-error case)\n",
    "print(\" error_pos | Bob recovers | Eve recovers\")\n",
    "print(\"---------------------------------------\")\n",
    "for err_b in range(-1, 7):   # -1 means no error\n",
    "    y = x.copy() if err_b<0 else flip_one(x, err_b)\n",
    "    for err_e in [err_b]:    # you can also test different error for Eve\n",
    "        z = x.copy() if err_e<0 else flip_one(x, err_e)\n",
    "\n",
    "        # Alice’s syndrome\n",
    "        c = compute_syndrome(x)\n",
    "\n",
    "        x_hat_bob = correct_forward(y, c)\n",
    "        x_hat_eve = correct_forward(z, c)\n",
    "\n",
    "        print(f\"    {err_b:2d}     |     {x_hat_bob.tolist()==x.tolist()}     |     {x_hat_eve.tolist()==x.tolist()}\")"
   ],
   "id": "bb0dfec00d59c091",
   "outputs": [
    {
     "name": "stdout",
     "output_type": "stream",
     "text": [
      " error_pos | Bob recovers | Eve recovers\n",
      "---------------------------------------\n",
      "    -1     |     True     |     True\n",
      "     0     |     True     |     True\n",
      "     1     |     True     |     True\n",
      "     2     |     True     |     True\n",
      "     3     |     True     |     True\n",
      "     4     |     True     |     True\n",
      "     5     |     True     |     True\n",
      "     6     |     True     |     True\n"
     ]
    }
   ],
   "execution_count": 48
  },
  {
   "metadata": {},
   "cell_type": "markdown",
   "source": [
    "# Task 3\n",
    "\n",
    "Reverse Reconciliation"
   ],
   "id": "94fed2201306bddc"
  },
  {
   "metadata": {
    "ExecuteTime": {
     "end_time": "2025-05-28T19:50:52.185708Z",
     "start_time": "2025-05-28T19:50:52.155341Z"
    }
   },
   "cell_type": "code",
   "source": [
    "# 1) Original x\n",
    "x = np.array([1, 0, 0, 1, 0, 0, 0])\n",
    "\n",
    "# 2) Simulate one‐bit errors on A→B and A→E independently\n",
    "def flip_one(word, pos):\n",
    "    w = word.copy()\n",
    "    w[pos] ^= 1\n",
    "    return w\n",
    "\n",
    "print(\" err_b | err_e | Alice recovers y | Eve recovers y?\")\n",
    "print(\"---------------------------------------------------\")\n",
    "for err_b in range(-1, 7):      # -1 means no error on Bob’s branch\n",
    "    y = x if err_b < 0 else flip_one(x, err_b)\n",
    "    sB = compute_syndrome(y)    # Bob’s syndrome\n",
    "\n",
    "    # Alice’s reconstruction of y\n",
    "    y_hat_A = correct_forward(x, sB)\n",
    "\n",
    "    for err_e in range(-1, 7):  # -1 means no error on Eve’s branch\n",
    "        z = x if err_e < 0 else flip_one(x, err_e)\n",
    "        # Eve tries the *same* correction\n",
    "        y_hat_E = correct_forward(z, sB)\n",
    "\n",
    "        okA = np.array_equal(y_hat_A, y)\n",
    "        okE = np.array_equal(y_hat_E, y)\n",
    "        print(f\"  {err_b:2d}   |  {err_e:2d}   |      {okA}       |     {okE}\")"
   ],
   "id": "13058cded9e6940d",
   "outputs": [
    {
     "name": "stdout",
     "output_type": "stream",
     "text": [
      " err_b | err_e | Alice recovers y | Eve recovers y?\n",
      "---------------------------------------------------\n",
      "  -1   |  -1   |      True       |     True\n",
      "  -1   |   0   |      True       |     True\n",
      "  -1   |   1   |      True       |     True\n",
      "  -1   |   2   |      True       |     True\n",
      "  -1   |   3   |      True       |     True\n",
      "  -1   |   4   |      True       |     True\n",
      "  -1   |   5   |      True       |     True\n",
      "  -1   |   6   |      True       |     True\n",
      "   0   |  -1   |      True       |     True\n",
      "   0   |   0   |      True       |     True\n",
      "   0   |   1   |      True       |     False\n",
      "   0   |   2   |      True       |     False\n",
      "   0   |   3   |      True       |     False\n",
      "   0   |   4   |      True       |     False\n",
      "   0   |   5   |      True       |     False\n",
      "   0   |   6   |      True       |     False\n",
      "   1   |  -1   |      True       |     True\n",
      "   1   |   0   |      True       |     False\n",
      "   1   |   1   |      True       |     True\n",
      "   1   |   2   |      True       |     False\n",
      "   1   |   3   |      True       |     False\n",
      "   1   |   4   |      True       |     False\n",
      "   1   |   5   |      True       |     False\n",
      "   1   |   6   |      True       |     False\n",
      "   2   |  -1   |      True       |     True\n",
      "   2   |   0   |      True       |     False\n",
      "   2   |   1   |      True       |     False\n",
      "   2   |   2   |      True       |     True\n",
      "   2   |   3   |      True       |     False\n",
      "   2   |   4   |      True       |     False\n",
      "   2   |   5   |      True       |     False\n",
      "   2   |   6   |      True       |     False\n",
      "   3   |  -1   |      True       |     True\n",
      "   3   |   0   |      True       |     False\n",
      "   3   |   1   |      True       |     False\n",
      "   3   |   2   |      True       |     False\n",
      "   3   |   3   |      True       |     True\n",
      "   3   |   4   |      True       |     False\n",
      "   3   |   5   |      True       |     False\n",
      "   3   |   6   |      True       |     False\n",
      "   4   |  -1   |      True       |     True\n",
      "   4   |   0   |      True       |     False\n",
      "   4   |   1   |      True       |     False\n",
      "   4   |   2   |      True       |     False\n",
      "   4   |   3   |      True       |     False\n",
      "   4   |   4   |      True       |     True\n",
      "   4   |   5   |      True       |     False\n",
      "   4   |   6   |      True       |     False\n",
      "   5   |  -1   |      True       |     True\n",
      "   5   |   0   |      True       |     False\n",
      "   5   |   1   |      True       |     False\n",
      "   5   |   2   |      True       |     False\n",
      "   5   |   3   |      True       |     False\n",
      "   5   |   4   |      True       |     False\n",
      "   5   |   5   |      True       |     True\n",
      "   5   |   6   |      True       |     False\n",
      "   6   |  -1   |      True       |     True\n",
      "   6   |   0   |      True       |     False\n",
      "   6   |   1   |      True       |     False\n",
      "   6   |   2   |      True       |     False\n",
      "   6   |   3   |      True       |     False\n",
      "   6   |   4   |      True       |     False\n",
      "   6   |   5   |      True       |     False\n",
      "   6   |   6   |      True       |     True\n"
     ]
    }
   ],
   "execution_count": 49
  }
 ],
 "metadata": {
  "kernelspec": {
   "name": "python3",
   "language": "python",
   "display_name": "Python 3 (ipykernel)"
  }
 },
 "nbformat": 5,
 "nbformat_minor": 9
}
