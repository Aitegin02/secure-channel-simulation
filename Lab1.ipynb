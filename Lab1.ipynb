{
 "cells": [
  {
   "cell_type": "markdown",
   "id": "1cde0080-341b-4d4e-aff9-f50ad37b440f",
   "metadata": {},
   "source": [
    "# Implementation and linear cryptanalysis of a simplified AES-like cipher \n",
    "Laboratory session 1 of *Information Security*, AY 2024/25"
   ]
  },
  {
   "cell_type": "markdown",
   "id": "401d9b76-214c-4b3b-bea4-54636502207d",
   "metadata": {},
   "source": [
    "To Do:\n",
    "- precautions for input shape or type mismatches\n",
    "- proper function documentation"
   ]
  },
  {
   "cell_type": "code",
   "execution_count": 1,
   "id": "ee4081db-1da6-4f44-9985-f5798f202904",
   "metadata": {},
   "outputs": [],
   "source": [
    "# library imports\n",
    "import numpy as np"
   ]
  },
  {
   "cell_type": "markdown",
   "id": "7c9203b1-ae0a-454a-8403-d1c8daefadc0",
   "metadata": {},
   "source": [
    "## Task 1\n",
    "Using a programming language of your choice, implement the encryptor for a simplified\n",
    "AES-like cipher."
   ]
  },
  {
   "cell_type": "markdown",
   "id": "7d49c841-2342-49ee-b80a-51ad2ad9c4b8",
   "metadata": {},
   "source": [
    "Soooo let's do helper functions for \n",
    "- subkey generation\n",
    "- substitution S\n",
    "- transposition T\n",
    "- linear transformation L"
   ]
  },
  {
   "cell_type": "code",
   "execution_count": 2,
   "id": "b7320cad-8219-47a2-9e91-ce52b1efd6b4",
   "metadata": {},
   "outputs": [],
   "source": [
    "def substitution(v):\n",
    "    return (2*v) % 11\n",
    "\n",
    "def transposition(y):\n",
    "    # returns copy of y with 2nd half flipped\n",
    "    # assuming y has an even length\n",
    "    h = len(y)//2 # halfway point\n",
    "    z = np.copy(y)\n",
    "    z[h:]= z[h:][::-1]\n",
    "    return z\n",
    "\n",
    "A = np.array([[2,5],[1,7]])\n",
    "def linear(z):\n",
    "    W = z.reshape((2,4))\n",
    "    w = (A @ W) % 11\n",
    "    return w.flatten()\n",
    "\n",
    "def subkeyGen(K):\n",
    "    idx = np.array([\n",
    "        [0, 2, 4, 6],\n",
    "        [0, 1, 2, 3],\n",
    "        [0, 3, 4, 7],\n",
    "        [0, 3, 5, 6],\n",
    "        [0, 2, 5, 7],\n",
    "        [2, 3, 4, 5]\n",
    "    ])\n",
    "    return K[idx]"
   ]
  },
  {
   "cell_type": "markdown",
   "id": "a6bcb34a-24d7-4dfd-a116-60e5a370575c",
   "metadata": {},
   "source": [
    "Put everything together in an encryptor function:"
   ]
  },
  {
   "cell_type": "code",
   "execution_count": 3,
   "id": "2805eedd-84f0-429d-ae9e-c5eeee16f645",
   "metadata": {},
   "outputs": [],
   "source": [
    "def encryptA(u, k):\n",
    "    # generate subkeys from key k\n",
    "    subkeys = subkeyGen(k)\n",
    "    # first subkey sum\n",
    "    v = (u + np.concatenate((subkeys[0], subkeys[0]))) % 11 \n",
    "\n",
    "    for i in range(4):\n",
    "        # S: perform substitution\n",
    "        y = substitution(v)\n",
    "        # T: transpose\n",
    "        z = transposition(y)\n",
    "        # L: linear transform\n",
    "        w = linear(z)\n",
    "        # compute subkey sum\n",
    "        v = (w + np.concatenate((subkeys[i+1], subkeys[i+1])) ) % 11\n",
    "\n",
    "    # last iteration without linear step:\n",
    "    # S: perform substitution\n",
    "    y = substitution(v)\n",
    "    # T: transpose\n",
    "    z = transposition(y)\n",
    "    # subkey sum\n",
    "    v = (z + np.concatenate((subkeys[5], subkeys[5])) ) % 11\n",
    "        \n",
    "    return v"
   ]
  },
  {
   "cell_type": "markdown",
   "id": "68bb6cea-b63c-4c75-967b-de46cbcbf08c",
   "metadata": {},
   "source": [
    "Test with given test message & key:"
   ]
  },
  {
   "cell_type": "code",
   "execution_count": 4,
   "id": "7a4a433b-c872-4fe0-aaf8-54affe1df59c",
   "metadata": {},
   "outputs": [
    {
     "data": {
      "text/plain": [
       "array([4., 0., 0., 9., 7., 0., 0., 3.])"
      ]
     },
     "execution_count": 4,
     "metadata": {},
     "output_type": "execute_result"
    }
   ],
   "source": [
    "u = np.zeros(8)\n",
    "u[0] = 1\n",
    "k = u.copy()\n",
    "encryptA(u,k)"
   ]
  },
  {
   "cell_type": "markdown",
   "id": "aef691b9-083c-497c-9346-064f9138f87e",
   "metadata": {},
   "source": [
    "## Task 2\n",
    "Implement the decryptor for this simplified AES-like cipher. Note that decryption is performed by the inverse blocks in reverse order. Therefore, you have to implement the inverse of each function used to encrypt the message (subkey sum, substitution, transposition and linear), taking into consideration that all the operations must be done in the field F = GF(p)."
   ]
  },
  {
   "cell_type": "markdown",
   "id": "d7d1a601-adc1-43ea-a266-962c45f7a001",
   "metadata": {},
   "source": [
    "The transposition (flipping the 2nd half of the vector) is its own inverse here. For the linear transformation, \n"
   ]
  },
  {
   "cell_type": "code",
   "execution_count": 5,
   "id": "65fc6410-3045-45c2-8541-b74fabf652bd",
   "metadata": {},
   "outputs": [],
   "source": [
    "def substitutionInv(v):\n",
    "    return 6*v % 11\n",
    "\n",
    "A_inv = np.array([[2, 8],[6, 10]])\n",
    "def linearInv(w):\n",
    "    W = w.reshape((2,4))\n",
    "    z = (A_inv @ W) % 11\n",
    "    return z.flatten()\n",
    "\n",
    "def decryptA(x, k):\n",
    "    # generate subkeys from key k\n",
    "    subkeys = subkeyGen(k)\n",
    "    \n",
    "    # subkey diff\n",
    "    z = (x + 11 - np.concatenate((subkeys[5], subkeys[5]))) % 11\n",
    "    # T^-1: inverse transposition\n",
    "    y = transposition(z)\n",
    "    # S^-1: inv. substitution\n",
    "    v = substitutionInv(y)\n",
    "\n",
    "    for i in range(0, 4):\n",
    "        # subkey diff\n",
    "        w = (v + 11 - np.concatenate((subkeys[4-i], subkeys[4-i]))) % 11\n",
    "        # L^-1: inverse linear trafo\n",
    "        z = linearInv(w)\n",
    "        # T^-^: inverse transposition\n",
    "        y = transposition(z)\n",
    "        # S^-1: inv. substitution\n",
    "        v = substitutionInv(y)\n",
    "\n",
    "    # subkey diff\n",
    "    u = (v + 11 - np.concatenate((subkeys[0], subkeys[0]))) % 11\n",
    "        \n",
    "    return u"
   ]
  },
  {
   "cell_type": "code",
   "execution_count": 6,
   "id": "c024ecc5-95d3-409e-a0db-12d025a504be",
   "metadata": {},
   "outputs": [
    {
     "name": "stdout",
     "output_type": "stream",
     "text": [
      "True\n"
     ]
    }
   ],
   "source": [
    "N = 100 # number of test pairs\n",
    "u = np.random.randint(0, 10, size=(N, 8)) # generate random test messages\n",
    "k =  np.random.randint(0, 10, size=(N, 8)) # generate random test keys\n",
    "x = np.array([decryptA(encryptA(u[i], k[i]), k[i]) for i in range(N)]) # encrypt and decrypt the messages\n",
    "print(np.all(u == x)) # check if all decrypted messages match the original ones"
   ]
  },
  {
   "cell_type": "markdown",
   "id": "34c1878a-c697-4d1c-9d17-c712c0ace23f",
   "metadata": {},
   "source": [
    "## Task 5\n",
    "implement the encryptor for a simplified AES-like cipher with the parameters given in the\n",
    "previous slides and the substitution function described by the following table\n"
   ]
  },
  {
   "cell_type": "code",
   "execution_count": 7,
   "id": "3488571e-c994-4925-9a67-b161175a83ba",
   "metadata": {},
   "outputs": [],
   "source": [
    "s_table = np.array([0, 2, 4, 8, 6, 10, 1, 3, 5, 7, 9])\n",
    "s_table_inv = np.argsort(s_table)\n",
    "\n",
    "def substitutionB(v):\n",
    "    return s_table[v]\n",
    "\n",
    "def substitutionInvB(v):\n",
    "    return s_table_inv[v]\n",
    "    \n",
    "def encryptB(u, k):\n",
    "    # generate subkeys from key k\n",
    "    subkeys = subkeyGen(k)\n",
    "    # first subkey sum\n",
    "    v = ((u + np.concatenate((subkeys[0], subkeys[0]))) % 11).astype(int)\n",
    "\n",
    "    for i in range(4):\n",
    "        # S: substitution\n",
    "        y = substitutionB(v)\n",
    "        # T: transpose\n",
    "        z = transposition(y)\n",
    "        # L: linear transform\n",
    "        w = linear(z)\n",
    "        # compute subkey sum\n",
    "        v = ((w + np.concatenate((subkeys[i+1], subkeys[i+1])) ) % 11).astype(int)\n",
    "\n",
    "    # last iteration without linear step:\n",
    "    # S: substitution\n",
    "    y = substitutionB(v)\n",
    "    # T: transpose\n",
    "    z = transposition(y)\n",
    "    # subkey sum\n",
    "    v = ((z + np.concatenate((subkeys[5], subkeys[5])) ) % 11).astype(int)\n",
    "        \n",
    "    return v\n",
    "\n",
    "def decryptB(x, k):\n",
    "    # generate subkeys from key k\n",
    "    subkeys = subkeyGen(k)\n",
    "    \n",
    "    # subkey diff\n",
    "    z = ((x + 11 - np.concatenate((subkeys[5], subkeys[5]))) % 11).astype(int)\n",
    "    # inv. T\n",
    "    y = transposition(z)\n",
    "    # inv. S\n",
    "    v = substitutionInvB(y)\n",
    "\n",
    "    for i in range(0, 4):\n",
    "        # subkey diff\n",
    "        w = ((v + 11 - np.concatenate((subkeys[4-i], subkeys[4-i]))) % 11).astype(int)\n",
    "        # inv. L \n",
    "        z = linearInv(w)\n",
    "        # inv. T\n",
    "        y = transposition(z)\n",
    "        # inv. S\n",
    "        v = substitutionInvB(y)\n",
    "\n",
    "    # subkey diff\n",
    "    u = ((v + 11 - np.concatenate((subkeys[0], subkeys[0]))) % 11).astype(int)\n",
    "        \n",
    "    return u"
   ]
  },
  {
   "cell_type": "markdown",
   "id": "9b64eafa-f0d6-4b8d-a313-94131a9f4a51",
   "metadata": {},
   "source": [
    "Test encryption with given message & key:"
   ]
  },
  {
   "cell_type": "code",
   "execution_count": 8,
   "id": "afdd69d9-0390-48af-89c4-508df90246dc",
   "metadata": {},
   "outputs": [
    {
     "data": {
      "text/plain": [
       "array([9, 0, 0, 0, 5, 0, 0, 6])"
      ]
     },
     "execution_count": 8,
     "metadata": {},
     "output_type": "execute_result"
    }
   ],
   "source": [
    "u = np.zeros(8)\n",
    "u[0] = 1\n",
    "k = u.copy()\n",
    "encryptB(u,k)"
   ]
  },
  {
   "cell_type": "markdown",
   "id": "43a62308-618a-4771-894c-7e9ca691dbcd",
   "metadata": {},
   "source": [
    "Test decryption:"
   ]
  },
  {
   "cell_type": "code",
   "execution_count": 9,
   "id": "920b3c9c-3df9-4415-a74e-f6a6e363e335",
   "metadata": {},
   "outputs": [
    {
     "name": "stdout",
     "output_type": "stream",
     "text": [
      "True\n"
     ]
    }
   ],
   "source": [
    "N = 100 # number of test pairs\n",
    "u = np.random.randint(0, 10, size=(N, 8)) # generate random test messages\n",
    "k =  np.random.randint(0, 10, size=(N, 8)) # generate random test keys\n",
    "x = np.array([decryptB(encryptB(u[i], k[i]), k[i]) for i in range(N)]) # encrypt and decrypt the messages\n",
    "print(np.all(u == x)) # check if all decrypted messages match the original ones"
   ]
  },
  {
   "cell_type": "markdown",
   "id": "2442b6b2-885a-4d02-8751-a48d288d411a",
   "metadata": {},
   "source": [
    "## Task 7\n",
    "implement the encryptor for a simplified AES-like cipher with the following parameters .."
   ]
  },
  {
   "cell_type": "code",
   "execution_count": 14,
   "id": "5b20c77e-e0c6-49da-9427-d57992e0ff33",
   "metadata": {},
   "outputs": [],
   "source": [
    "def subkeyGenC(K):\n",
    "    idx = np.array([\n",
    "        [0, 1, 2, 3],\n",
    "        [0, 1, 3, 2],\n",
    "        [1, 2, 3, 0],\n",
    "        [0, 3, 1, 2],\n",
    "        [2, 3, 0, 1],\n",
    "        [1, 3, 0, 2]\n",
    "    ])\n",
    "    return K[idx]\n",
    "\n",
    "# modular multiplicative inverse table for GF(11)\n",
    "# for v[j] = 0, we set v[j]^-1 to 0\n",
    "inv_table = np.array([0, 1, 6, 4, 3, 9, 2, 8, 7, 5, 10])\n",
    "def substitutionC(v):\n",
    "    return 2*inv_table[v] % 11\n",
    "\n",
    "def substitutionInvC(y):\n",
    "    return inv_table[(6*y) % 11]\n",
    "    \n",
    "def encryptC(u, k):\n",
    "    # generate subkeys from key k\n",
    "    subkeys = subkeyGenC(k)\n",
    "    # first subkey sum\n",
    "    v = ((u + np.concatenate((subkeys[0], subkeys[0]))) % 11).astype(int)\n",
    "\n",
    "    for i in range(4):\n",
    "        # S: substitution\n",
    "        y = substitutionC(v)\n",
    "        # T: transpose\n",
    "        z = transposition(y)\n",
    "        # L: linear transform\n",
    "        w = linear(z)\n",
    "        # compute subkey sum\n",
    "        v = ((w + np.concatenate((subkeys[i+1], subkeys[i+1])) ) % 11).astype(int)\n",
    "\n",
    "    # last iteration without linear step:\n",
    "    # S: substitution\n",
    "    y = substitutionC(v)\n",
    "    # T: transpose\n",
    "    z = transposition(y)\n",
    "    # subkey sum\n",
    "    v = ((z + np.concatenate((subkeys[5], subkeys[5])) ) % 11).astype(int)\n",
    "        \n",
    "    return v\n",
    "\n",
    "def decryptC(x, k):\n",
    "    # generate subkeys from key k\n",
    "    subkeys = subkeyGenC(k)\n",
    "    \n",
    "    # subkey diff\n",
    "    z = ((x + 11 - np.concatenate((subkeys[5], subkeys[5]))) % 11).astype(int)\n",
    "    # inv. T\n",
    "    y = transposition(z)\n",
    "    # inv. S\n",
    "    v = substitutionInvC(y)\n",
    "\n",
    "    for i in range(0, 4):\n",
    "        # subkey diff\n",
    "        w = ((v + 11 - np.concatenate((subkeys[4-i], subkeys[4-i]))) % 11).astype(int)\n",
    "        # inv. L \n",
    "        z = linearInv(w)\n",
    "        # inv. T\n",
    "        y = transposition(z)\n",
    "        # inv. S\n",
    "        v = substitutionInvC(y)\n",
    "\n",
    "    # subkey diff\n",
    "    u = ((v + 11 - np.concatenate((subkeys[0], subkeys[0]))) % 11).astype(int)\n",
    "        \n",
    "    return u"
   ]
  },
  {
   "cell_type": "code",
   "execution_count": 15,
   "id": "42b69155-9351-4c44-96e4-9a24f4dc2579",
   "metadata": {},
   "outputs": [
    {
     "data": {
      "text/plain": [
       "array([5, 0, 3, 2, 5, 2, 1, 1])"
      ]
     },
     "execution_count": 15,
     "metadata": {},
     "output_type": "execute_result"
    }
   ],
   "source": [
    "u = np.zeros(8)\n",
    "u[0] = 1\n",
    "k = u.copy()\n",
    "encryptC(u,k)"
   ]
  },
  {
   "cell_type": "code",
   "execution_count": 16,
   "id": "e77b832b-9157-4946-8bb4-83d1f85bd3b6",
   "metadata": {},
   "outputs": [
    {
     "name": "stdout",
     "output_type": "stream",
     "text": [
      "True\n"
     ]
    }
   ],
   "source": [
    "N = 100 # number of test pairs\n",
    "u = np.random.randint(0, 10, size=(N, 8)) # generate random test messages\n",
    "k =  np.random.randint(0, 10, size=(N, 8)) # generate random test keys\n",
    "x = np.array([decryptC(encryptC(u[i], k[i]), k[i]) for i in range(N)]) # encrypt and decrypt the messages\n",
    "print(np.all(u == x)) # check if all decrypted messages match the original ones"
   ]
  }
 ],
 "metadata": {
  "kernelspec": {
   "display_name": "Python 3 (ipykernel)",
   "language": "python",
   "name": "python3"
  },
  "language_info": {
   "codemirror_mode": {
    "name": "ipython",
    "version": 3
   },
   "file_extension": ".py",
   "mimetype": "text/x-python",
   "name": "python",
   "nbconvert_exporter": "python",
   "pygments_lexer": "ipython3",
   "version": "3.12.4"
  }
 },
 "nbformat": 4,
 "nbformat_minor": 5
}
